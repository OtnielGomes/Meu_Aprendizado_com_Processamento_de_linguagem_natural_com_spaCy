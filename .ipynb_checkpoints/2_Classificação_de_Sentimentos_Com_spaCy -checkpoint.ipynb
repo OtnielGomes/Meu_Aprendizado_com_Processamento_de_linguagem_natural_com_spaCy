{
 "cells": [
  {
   "cell_type": "markdown",
   "id": "24cd6e8b",
   "metadata": {},
   "source": [
    "### Imports: "
   ]
  },
  {
   "cell_type": "code",
   "execution_count": 2,
   "id": "638744b9",
   "metadata": {},
   "outputs": [],
   "source": [
    "import pandas as pd \n",
    "import spacy\n",
    "import string\n",
    "import seaborn as sns\n",
    "import matplotlib.pyplot as plt\n",
    "from spacy.lang.pt.stop_words import STOP_WORDS\n",
    "from spacy.training import Example\n",
    "import random\n",
    "import numpy as np\n",
    "from sklearn.metrics import accuracy_score, confusion_matrix"
   ]
  },
  {
   "cell_type": "markdown",
   "id": "fb6ff33f-b429-41cc-bd00-0e4070f6a759",
   "metadata": {},
   "source": [
    "### LoadingSTOP_WORDS"
   ]
  },
  {
   "cell_type": "code",
   "execution_count": 3,
   "id": "8d30a499-1b89-41c4-8e20-96064d96678c",
   "metadata": {},
   "outputs": [
    {
     "data": {
      "text/plain": [
       "<spacy.lang.pt.Portuguese at 0x1f999128bd0>"
      ]
     },
     "execution_count": 3,
     "metadata": {},
     "output_type": "execute_result"
    }
   ],
   "source": [
    "training_base = pd.read_csv('base_treinamento.txt', encoding = 'utf-8')\n",
    "pln = spacy.load('pt_core_news_sm')\n",
    "pln"
   ]
  },
  {
   "cell_type": "code",
   "execution_count": 4,
   "id": "02c594a7-5c81-43de-a1de-0f19a8c9c785",
   "metadata": {},
   "outputs": [
    {
     "data": {
      "text/html": [
       "<div>\n",
       "<style scoped>\n",
       "    .dataframe tbody tr th:only-of-type {\n",
       "        vertical-align: middle;\n",
       "    }\n",
       "\n",
       "    .dataframe tbody tr th {\n",
       "        vertical-align: top;\n",
       "    }\n",
       "\n",
       "    .dataframe thead th {\n",
       "        text-align: right;\n",
       "    }\n",
       "</style>\n",
       "<table border=\"1\" class=\"dataframe\">\n",
       "  <thead>\n",
       "    <tr style=\"text-align: right;\">\n",
       "      <th></th>\n",
       "      <th>texto</th>\n",
       "      <th>emocao</th>\n",
       "    </tr>\n",
       "  </thead>\n",
       "  <tbody>\n",
       "    <tr>\n",
       "      <th>0</th>\n",
       "      <td>este trabalho é agradável</td>\n",
       "      <td>alegria</td>\n",
       "    </tr>\n",
       "    <tr>\n",
       "      <th>1</th>\n",
       "      <td>gosto de ficar no seu aconchego</td>\n",
       "      <td>alegria</td>\n",
       "    </tr>\n",
       "    <tr>\n",
       "      <th>2</th>\n",
       "      <td>fiz a adesão ao curso hoje</td>\n",
       "      <td>alegria</td>\n",
       "    </tr>\n",
       "    <tr>\n",
       "      <th>3</th>\n",
       "      <td>eu sou admirada por muitos</td>\n",
       "      <td>alegria</td>\n",
       "    </tr>\n",
       "    <tr>\n",
       "      <th>4</th>\n",
       "      <td>adoro como você</td>\n",
       "      <td>alegria</td>\n",
       "    </tr>\n",
       "  </tbody>\n",
       "</table>\n",
       "</div>"
      ],
      "text/plain": [
       "                             texto   emocao\n",
       "0        este trabalho é agradável  alegria\n",
       "1  gosto de ficar no seu aconchego  alegria\n",
       "2       fiz a adesão ao curso hoje  alegria\n",
       "3       eu sou admirada por muitos  alegria\n",
       "4                  adoro como você  alegria"
      ]
     },
     "execution_count": 4,
     "metadata": {},
     "output_type": "execute_result"
    }
   ],
   "source": [
    "training_base.head()"
   ]
  },
  {
   "cell_type": "code",
   "execution_count": 5,
   "id": "4ebc45c2-8841-4ef4-bd53-b7193e6128b3",
   "metadata": {},
   "outputs": [
    {
     "name": "stderr",
     "output_type": "stream",
     "text": [
      "C:\\Users\\otnie\\AppData\\Local\\Programs\\Python\\Python311\\Lib\\site-packages\\seaborn\\_oldcore.py:1498: FutureWarning: is_categorical_dtype is deprecated and will be removed in a future version. Use isinstance(dtype, CategoricalDtype) instead\n",
      "  if pd.api.types.is_categorical_dtype(vector):\n",
      "C:\\Users\\otnie\\AppData\\Local\\Programs\\Python\\Python311\\Lib\\site-packages\\seaborn\\_oldcore.py:1498: FutureWarning: is_categorical_dtype is deprecated and will be removed in a future version. Use isinstance(dtype, CategoricalDtype) instead\n",
      "  if pd.api.types.is_categorical_dtype(vector):\n",
      "C:\\Users\\otnie\\AppData\\Local\\Programs\\Python\\Python311\\Lib\\site-packages\\seaborn\\_oldcore.py:1498: FutureWarning: is_categorical_dtype is deprecated and will be removed in a future version. Use isinstance(dtype, CategoricalDtype) instead\n",
      "  if pd.api.types.is_categorical_dtype(vector):\n"
     ]
    },
    {
     "data": {
      "image/png": "[encoded data removed]",
      "text/plain": [
       "<Figure size 640x480 with 1 Axes>"
      ]
     },
     "metadata": {},
     "output_type": "display_data"
    }
   ],
   "source": [
    "sns.countplot(x='emocao', data=training_base, label='counting')\n",
    "plt.show()"
   ]
  },
  {
   "cell_type": "markdown",
   "id": "479e90b7-86af-4f95-ac23-e27433c87486",
   "metadata": {},
   "source": [
    "#### Preprocessing >>> training_base"
   ]
  },
  {
   "cell_type": "code",
   "execution_count": 6,
   "id": "26d7460d-520c-4a8e-989a-b6a5ba05c285",
   "metadata": {},
   "outputs": [
    {
     "data": {
      "text/plain": [
       "'!\"#$%&\\'()*+,-./:;<=>?@[\\\\]^_`{|}~'"
      ]
     },
     "execution_count": 6,
     "metadata": {},
     "output_type": "execute_result"
    }
   ],
   "source": [
    "punctuation = string.punctuation\n",
    "punctuation"
   ]
  },
  {
   "cell_type": "code",
   "execution_count": 7,
   "id": "8be65912-e5cf-4231-9eb4-7510a59c1d86",
   "metadata": {},
   "outputs": [],
   "source": [
    "stop_word = STOP_WORDS"
   ]
  },
  {
   "cell_type": "markdown",
   "id": "013271e2-ff4a-48a0-bac1-e654f9c3e464",
   "metadata": {},
   "source": [
    "#### Fuction preprocessing text of the traing_base"
   ]
  },
  {
   "cell_type": "code",
   "execution_count": 8,
   "id": "2f4b0809-02e3-4526-9efb-8221f6b9a79b",
   "metadata": {},
   "outputs": [],
   "source": [
    "def preprocessing_text(text):\n",
    "    text_lower = text.lower()\n",
    "    doc = pln(text_lower)\n",
    "    text_list = []\n",
    "    for token in doc:\n",
    "        text_list.append(token.lemma_)\n",
    "    text_list = [word for word in text_list if word not in stop_word and word not in punctuation]\n",
    "    text_list = ' '.join([str(element) for element in text_list if not element.isdigit()])\n",
    "    return text_list"
   ]
  },
  {
   "cell_type": "code",
   "execution_count": 9,
   "id": "840f3865-0bdf-4c53-a16a-e80b2961c64f",
   "metadata": {},
   "outputs": [
    {
     "data": {
      "text/html": [
       "<div>\n",
       "<style scoped>\n",
       "    .dataframe tbody tr th:only-of-type {\n",
       "        vertical-align: middle;\n",
       "    }\n",
       "\n",
       "    .dataframe tbody tr th {\n",
       "        vertical-align: top;\n",
       "    }\n",
       "\n",
       "    .dataframe thead th {\n",
       "        text-align: right;\n",
       "    }\n",
       "</style>\n",
       "<table border=\"1\" class=\"dataframe\">\n",
       "  <thead>\n",
       "    <tr style=\"text-align: right;\">\n",
       "      <th></th>\n",
       "      <th>texto</th>\n",
       "      <th>emocao</th>\n",
       "    </tr>\n",
       "  </thead>\n",
       "  <tbody>\n",
       "    <tr>\n",
       "      <th>0</th>\n",
       "      <td>trabalho agradável</td>\n",
       "      <td>alegria</td>\n",
       "    </tr>\n",
       "    <tr>\n",
       "      <th>1</th>\n",
       "      <td>gosto ficar em o aconchego</td>\n",
       "      <td>alegria</td>\n",
       "    </tr>\n",
       "    <tr>\n",
       "      <th>2</th>\n",
       "      <td>fiz adesão a o curso hoje</td>\n",
       "      <td>alegria</td>\n",
       "    </tr>\n",
       "    <tr>\n",
       "      <th>3</th>\n",
       "      <td>admirar</td>\n",
       "      <td>alegria</td>\n",
       "    </tr>\n",
       "    <tr>\n",
       "      <th>4</th>\n",
       "      <td>adorar</td>\n",
       "      <td>alegria</td>\n",
       "    </tr>\n",
       "  </tbody>\n",
       "</table>\n",
       "</div>"
      ],
      "text/plain": [
       "                        texto   emocao\n",
       "0          trabalho agradável  alegria\n",
       "1  gosto ficar em o aconchego  alegria\n",
       "2   fiz adesão a o curso hoje  alegria\n",
       "3                     admirar  alegria\n",
       "4                      adorar  alegria"
      ]
     },
     "execution_count": 9,
     "metadata": {},
     "output_type": "execute_result"
    }
   ],
   "source": [
    "training_base_preprocessing = training_base\n",
    "training_base_preprocessing['texto'] = training_base['texto'].apply(preprocessing_text) \n",
    "training_base_preprocessing.head()"
   ]
  },
  {
   "cell_type": "code",
   "execution_count": 10,
   "id": "f79aa369-d6b8-4d4a-a095-a33cd8fc1466",
   "metadata": {},
   "outputs": [],
   "source": [
    "final_base_training = []\n",
    "for texto, emocao in zip(training_base_preprocessing['texto'], training_base_preprocessing['emocao']):\n",
    "    if emocao == 'alegria':\n",
    "        dic = ({'ALEGRIA': True, 'MEDO': False})\n",
    "    elif emocao == 'medo':\n",
    "        dic = ({'ALEGRIA': False, 'MEDO': True})\n",
    "    final_base_training.append([texto, dic.copy()])"
   ]
  },
  {
   "cell_type": "code",
   "execution_count": 11,
   "id": "49620b0c-a3b1-4197-a414-26dc52a7e07f",
   "metadata": {},
   "outputs": [
    {
     "data": {
      "text/plain": [
       "196"
      ]
     },
     "execution_count": 11,
     "metadata": {},
     "output_type": "execute_result"
    }
   ],
   "source": [
    "len(final_base_training)"
   ]
  },
  {
   "cell_type": "markdown",
   "id": "31dd3c77-dfc9-4439-a60d-67b727d7fba5",
   "metadata": {},
   "source": [
    "### Classifier creation"
   ]
  },
  {
   "cell_type": "code",
   "execution_count": 12,
   "id": "43611502-14c0-4df2-b761-e396b00a3131",
   "metadata": {},
   "outputs": [],
   "source": [
    "model = spacy.blank('pt')\n",
    "textcat = model.add_pipe('textcat')\n",
    "textcat.add_label('ALEGRIA')\n",
    "textcat.add_label('MEDO')\n",
    "historic = []"
   ]
  },
  {
   "cell_type": "code",
   "execution_count": 13,
   "id": "0f26ea17-0d15-4142-9c7d-14a1ef2e9a4a",
   "metadata": {},
   "outputs": [
    {
     "name": "stdout",
     "output_type": "stream",
     "text": [
      "{'textcat': 1.7450131177902222}\n",
      "{'textcat': 2.6294193168283075e-11}\n",
      "{'textcat': 3.6048898241491933e-12}\n",
      "{'textcat': 9.399476978548017e-13}\n",
      "{'textcat': 3.1456079094846576e-13}\n",
      "{'textcat': 1.3949930620371642e-13}\n",
      "{'textcat': 6.637134985964448e-14}\n",
      "{'textcat': 3.342507587511122e-14}\n",
      "{'textcat': 1.7874082688454905e-14}\n",
      "{'textcat': 9.292037881679854e-15}\n"
     ]
    }
   ],
   "source": [
    "model.begin_training()\n",
    "for period in range (1000):\n",
    "    random.shuffle(final_base_training)\n",
    "    losses = {}\n",
    "    for batch in spacy.util.minibatch(final_base_training, 30):\n",
    "        texts = [model(texto) for texto, entities in batch]\n",
    "        annotations = [{'cats': entities} for texto, entities in batch]\n",
    "        examples = [Example.from_dict(doc, annotation) for doc, annotation in zip(texts, annotations)]\n",
    "        model.update(examples, losses=losses)\n",
    "    if period % 100 == 0:\n",
    "        print(losses)\n",
    "        historic.append(losses)\n",
    "    "
   ]
  },
  {
   "cell_type": "code",
   "execution_count": 34,
   "id": "78c5e3de-72a4-4157-be68-263ef9f841cd",
   "metadata": {},
   "outputs": [],
   "source": [
    "historic_loss = []\n",
    "for i in historic:\n",
    "    historic_loss.append(i.get('textcat'))"
   ]
  },
  {
   "cell_type": "code",
   "execution_count": 35,
   "id": "1792d4d3-d0e4-4c3f-9702-ac0b946cd59c",
   "metadata": {},
   "outputs": [
    {
     "data": {
      "text/plain": [
       "array([1.74501312e+00, 2.62941932e-11, 3.60488982e-12, 9.39947698e-13,\n",
       "       3.14560791e-13, 1.39499306e-13, 6.63713499e-14, 3.34250759e-14,\n",
       "       1.78740827e-14, 9.29203788e-15])"
      ]
     },
     "execution_count": 35,
     "metadata": {},
     "output_type": "execute_result"
    }
   ],
   "source": [
    "historic_loss_array = np.array(historic_loss)\n",
    "historic_loss_array"
   ]
  },
  {
   "cell_type": "markdown",
   "id": "82235123-e7cb-4d93-93b2-505bcc84b44b",
   "metadata": {},
   "source": [
    "### training chart"
   ]
  },
  {
   "cell_type": "code",
   "execution_count": 36,
   "id": "3286b232-f5d4-49df-8cec-85132df20804",
   "metadata": {},
   "outputs": [
    {
     "data": {
      "image/png": "[encoded data removed]",
      "text/plain": [
       "<Figure size 640x480 with 1 Axes>"
      ]
     },
     "metadata": {},
     "output_type": "display_data"
    }
   ],
   "source": [
    "plt.plot(historic_loss_array)\n",
    "plt.title('Progression error')\n",
    "plt.xlabel('Period')\n",
    "plt.ylabel('Errors')\n",
    "plt.show()"
   ]
  },
  {
   "cell_type": "markdown",
   "id": "4bebbf47-0423-4f33-bbd3-5ec71deb87cc",
   "metadata": {},
   "source": [
    "#### Salving Model training"
   ]
  },
  {
   "cell_type": "code",
   "execution_count": 37,
   "id": "a45ca5e3-1388-47a8-a2aa-5a48001c46ee",
   "metadata": {},
   "outputs": [],
   "source": [
    "model.to_disk('model_training')"
   ]
  },
  {
   "cell_type": "markdown",
   "id": "a232339e-ba55-40e9-83dc-11c857e2ca3f",
   "metadata": {},
   "source": [
    "### testing phrases"
   ]
  },
  {
   "cell_type": "code",
   "execution_count": 38,
   "id": "1d006d5f-0b2e-4304-b999-87c372ed95a9",
   "metadata": {},
   "outputs": [],
   "source": [
    "model_training =  spacy.load('model_training')"
   ]
  },
  {
   "cell_type": "markdown",
   "id": "7f4e1fce-a86c-4794-8b70-1222c4702921",
   "metadata": {},
   "source": [
    "#### Phrases"
   ]
  },
  {
   "cell_type": "code",
   "execution_count": 39,
   "id": "ad26ca09-9266-4d71-933d-bb8de159402e",
   "metadata": {},
   "outputs": [],
   "source": [
    "positive_text = 'estou muito animado hoje que dia lindo'\n",
    "negative_text = 'estou com medo dele'"
   ]
  },
  {
   "cell_type": "markdown",
   "id": "353f5512-fc2c-4482-bd36-149a19b5dc1d",
   "metadata": {},
   "source": [
    "### prevision test"
   ]
  },
  {
   "cell_type": "code",
   "execution_count": 40,
   "id": "e1b412c7-146a-4f0c-8a66-ae0939683bc0",
   "metadata": {},
   "outputs": [
    {
     "data": {
      "text/plain": [
       "{'ALEGRIA': 0.9999997615814209, 'MEDO': 2.898158300013165e-07}"
      ]
     },
     "execution_count": 40,
     "metadata": {},
     "output_type": "execute_result"
    }
   ],
   "source": [
    "prevision_test = model_training(preprocessing_text(positive_text))\n",
    "prevision_test.cats"
   ]
  },
  {
   "cell_type": "code",
   "execution_count": 41,
   "id": "d77bb8b7-97bf-446f-b729-f6155870a88b",
   "metadata": {},
   "outputs": [
    {
     "data": {
      "text/plain": [
       "{'ALEGRIA': 4.585273316592975e-08, 'MEDO': 1.0}"
      ]
     },
     "execution_count": 41,
     "metadata": {},
     "output_type": "execute_result"
    }
   ],
   "source": [
    "prevision_test = model_training(preprocessing_text(negative_text))\n",
    "prevision_test.cats"
   ]
  },
  {
   "cell_type": "markdown",
   "id": "4557f6df-0078-4705-a580-da6dffed1806",
   "metadata": {},
   "source": [
    "#### testing training_base"
   ]
  },
  {
   "cell_type": "code",
   "execution_count": null,
   "id": "aec5dcb8-985d-42f9-af28-10eab84794d9",
   "metadata": {},
   "outputs": [],
   "source": []
  },
  {
   "cell_type": "code",
   "execution_count": 42,
   "id": "8cd0c393-f2e4-479d-a8c7-03e67e25f590",
   "metadata": {},
   "outputs": [],
   "source": [
    "predictions = []\n",
    "for text in training_base_preprocessing['texto']:\n",
    "    predction = model_training(text)\n",
    "    predictions.append(predction.cats)"
   ]
  },
  {
   "cell_type": "code",
   "execution_count": 43,
   "id": "f3e472ed-9f4f-4b2a-b370-31b61e2e5637",
   "metadata": {},
   "outputs": [
    {
     "data": {
      "text/plain": [
       "[{'ALEGRIA': 1.0, 'MEDO': 1.8091983022827662e-08},\n",
       " {'ALEGRIA': 1.0, 'MEDO': 4.2553502055397985e-08},\n",
       " {'ALEGRIA': 1.0, 'MEDO': 1.7741037083851552e-08},\n",
       " {'ALEGRIA': 1.0, 'MEDO': 3.144084814721282e-08},\n",
       " {'ALEGRIA': 1.0, 'MEDO': 7.174126626097177e-09},\n",
       " {'ALEGRIA': 1.0, 'MEDO': 3.804575143817601e-08},\n",
       " {'ALEGRIA': 1.0, 'MEDO': 2.7627736542967796e-08},\n",
       " {'ALEGRIA': 1.0, 'MEDO': 1.2712994212904505e-08},\n",
       " {'ALEGRIA': 1.0, 'MEDO': 1.1457052195851247e-08},\n",
       " {'ALEGRIA': 1.0, 'MEDO': 1.763133461452071e-08},\n",
       " {'ALEGRIA': 1.0, 'MEDO': 1.880443356583328e-08},\n",
       " {'ALEGRIA': 1.0, 'MEDO': 8.658800787486598e-09},\n",
       " {'ALEGRIA': 1.0, 'MEDO': 1.2183942743604348e-09},\n",
       " {'ALEGRIA': 1.0, 'MEDO': 7.405783986058623e-09},\n",
       " {'ALEGRIA': 1.0, 'MEDO': 5.507210687483166e-08},\n",
       " {'ALEGRIA': 1.0, 'MEDO': 2.5743924325638545e-08},\n",
       " {'ALEGRIA': 1.0, 'MEDO': 1.3264202181062501e-08},\n",
       " {'ALEGRIA': 1.0, 'MEDO': 8.606244605857682e-09},\n",
       " {'ALEGRIA': 1.0, 'MEDO': 1.8798230527750093e-08},\n",
       " {'ALEGRIA': 1.0, 'MEDO': 1.4788597901826961e-08},\n",
       " {'ALEGRIA': 1.0, 'MEDO': 1.139626704116381e-08},\n",
       " {'ALEGRIA': 1.0, 'MEDO': 5.28192742876854e-08},\n",
       " {'ALEGRIA': 1.0, 'MEDO': 3.332032960656761e-08},\n",
       " {'ALEGRIA': 1.0, 'MEDO': 1.7242694383412527e-08},\n",
       " {'ALEGRIA': 1.0, 'MEDO': 4.210346737920645e-09},\n",
       " {'ALEGRIA': 1.0, 'MEDO': 4.193950431385929e-08},\n",
       " {'ALEGRIA': 1.0, 'MEDO': 4.891770100101667e-09},\n",
       " {'ALEGRIA': 1.0, 'MEDO': 2.1472880362694013e-08},\n",
       " {'ALEGRIA': 1.0, 'MEDO': 1.3924779551643951e-08},\n",
       " {'ALEGRIA': 1.0, 'MEDO': 8.87554119088918e-09},\n",
       " {'ALEGRIA': 1.0, 'MEDO': 3.978985674280011e-08},\n",
       " {'ALEGRIA': 1.0, 'MEDO': 6.0640901189401575e-09},\n",
       " {'ALEGRIA': 1.0, 'MEDO': 2.3480472677306352e-08},\n",
       " {'ALEGRIA': 1.0, 'MEDO': 1.0962296848049391e-08},\n",
       " {'ALEGRIA': 1.0, 'MEDO': 1.1476998906800873e-08},\n",
       " {'ALEGRIA': 1.0, 'MEDO': 3.2314513731535044e-08},\n",
       " {'ALEGRIA': 1.0, 'MEDO': 4.440521905735295e-08},\n",
       " {'ALEGRIA': 1.0, 'MEDO': 5.555442328386562e-09},\n",
       " {'ALEGRIA': 1.0, 'MEDO': 8.447964994218182e-09},\n",
       " {'ALEGRIA': 1.0, 'MEDO': 1.9265208095475828e-08},\n",
       " {'ALEGRIA': 1.0, 'MEDO': 5.205933817364894e-08},\n",
       " {'ALEGRIA': 1.0, 'MEDO': 3.2892899071157444e-08},\n",
       " {'ALEGRIA': 1.0, 'MEDO': 8.482873070647656e-09},\n",
       " {'ALEGRIA': 1.0, 'MEDO': 1.0861977095544262e-08},\n",
       " {'ALEGRIA': 1.0, 'MEDO': 2.7426542814623645e-08},\n",
       " {'ALEGRIA': 1.0, 'MEDO': 2.579888125353591e-08},\n",
       " {'ALEGRIA': 1.0, 'MEDO': 3.15948618379025e-08},\n",
       " {'ALEGRIA': 1.0, 'MEDO': 2.695862022505935e-08},\n",
       " {'ALEGRIA': 1.0, 'MEDO': 1.949118555444329e-08},\n",
       " {'ALEGRIA': 1.0, 'MEDO': 4.2554777479608674e-09},\n",
       " {'ALEGRIA': 1.0, 'MEDO': 2.6994227297905127e-08},\n",
       " {'ALEGRIA': 1.0, 'MEDO': 2.1125654559028817e-09},\n",
       " {'ALEGRIA': 1.0, 'MEDO': 1.11482725273504e-08},\n",
       " {'ALEGRIA': 1.0, 'MEDO': 1.7261186258110683e-08},\n",
       " {'ALEGRIA': 1.0, 'MEDO': 2.064325599349104e-08},\n",
       " {'ALEGRIA': 1.0, 'MEDO': 1.2752605194066291e-08},\n",
       " {'ALEGRIA': 1.0, 'MEDO': 1.0726671106908725e-08},\n",
       " {'ALEGRIA': 1.0, 'MEDO': 2.720853942150825e-08},\n",
       " {'ALEGRIA': 1.0, 'MEDO': 2.6450257095689267e-08},\n",
       " {'ALEGRIA': 1.0, 'MEDO': 1.965544882409631e-08},\n",
       " {'ALEGRIA': 1.0, 'MEDO': 1.7638130955788256e-08},\n",
       " {'ALEGRIA': 1.0, 'MEDO': 5.23574783528602e-08},\n",
       " {'ALEGRIA': 1.0, 'MEDO': 9.651855314984914e-09},\n",
       " {'ALEGRIA': 1.0, 'MEDO': 8.681605656590818e-09},\n",
       " {'ALEGRIA': 1.0, 'MEDO': 1.4026072747697071e-08},\n",
       " {'ALEGRIA': 1.0, 'MEDO': 2.692393330505638e-08},\n",
       " {'ALEGRIA': 0.9999998807907104, 'MEDO': 8.293771713852038e-08},\n",
       " {'ALEGRIA': 1.0, 'MEDO': 5.537884106843194e-08},\n",
       " {'ALEGRIA': 1.0, 'MEDO': 2.4657971664510114e-08},\n",
       " {'ALEGRIA': 1.0, 'MEDO': 4.83524953409642e-09},\n",
       " {'ALEGRIA': 1.0, 'MEDO': 3.3633948959277404e-09},\n",
       " {'ALEGRIA': 1.0, 'MEDO': 1.4199584619234429e-08},\n",
       " {'ALEGRIA': 1.0, 'MEDO': 3.7222022797323007e-08},\n",
       " {'ALEGRIA': 1.0, 'MEDO': 3.175054175130754e-08},\n",
       " {'ALEGRIA': 1.0, 'MEDO': 5.6931803271709214e-08},\n",
       " {'ALEGRIA': 1.0, 'MEDO': 1.251551573488996e-08},\n",
       " {'ALEGRIA': 1.0, 'MEDO': 2.6136968145351602e-08},\n",
       " {'ALEGRIA': 1.0, 'MEDO': 2.9591765482450683e-08},\n",
       " {'ALEGRIA': 1.0, 'MEDO': 1.3895012251907701e-08},\n",
       " {'ALEGRIA': 1.0, 'MEDO': 3.0408482842858575e-08},\n",
       " {'ALEGRIA': 1.0, 'MEDO': 2.6837545519242667e-08},\n",
       " {'ALEGRIA': 1.0, 'MEDO': 1.5338658343466705e-08},\n",
       " {'ALEGRIA': 1.0, 'MEDO': 1.1918267261989968e-08},\n",
       " {'ALEGRIA': 1.0, 'MEDO': 1.7383365857881472e-08},\n",
       " {'ALEGRIA': 1.0, 'MEDO': 2.2584567105354836e-08},\n",
       " {'ALEGRIA': 1.0, 'MEDO': 1.170657881743864e-08},\n",
       " {'ALEGRIA': 1.0, 'MEDO': 8.719657884626031e-09},\n",
       " {'ALEGRIA': 1.0, 'MEDO': 4.681653109628314e-08},\n",
       " {'ALEGRIA': 1.0, 'MEDO': 1.4003485482305678e-08},\n",
       " {'ALEGRIA': 1.0, 'MEDO': 1.6816429138089006e-08},\n",
       " {'ALEGRIA': 1.0, 'MEDO': 1.4308770168725005e-08},\n",
       " {'ALEGRIA': 1.0, 'MEDO': 2.0053480653814404e-08},\n",
       " {'ALEGRIA': 1.0, 'MEDO': 1.2160615625589344e-08},\n",
       " {'ALEGRIA': 1.0, 'MEDO': 1.3668532083954688e-08},\n",
       " {'ALEGRIA': 1.0, 'MEDO': 5.2782689330399535e-09},\n",
       " {'ALEGRIA': 1.0, 'MEDO': 2.4182334357192303e-08},\n",
       " {'ALEGRIA': 1.0, 'MEDO': 1.521552128735948e-08},\n",
       " {'ALEGRIA': 1.0, 'MEDO': 4.9902332932560967e-08},\n",
       " {'ALEGRIA': 1.0, 'MEDO': 1.7223365844643013e-08},\n",
       " {'ALEGRIA': 1.0, 'MEDO': 1.2215291889106084e-08},\n",
       " {'ALEGRIA': 1.0, 'MEDO': 3.7063479396692856e-08},\n",
       " {'ALEGRIA': 1.0, 'MEDO': 6.553807274656265e-09},\n",
       " {'ALEGRIA': 1.0, 'MEDO': 9.130805445067836e-09},\n",
       " {'ALEGRIA': 1.0, 'MEDO': 4.917851903485371e-09},\n",
       " {'ALEGRIA': 1.0, 'MEDO': 1.0381665305203569e-08},\n",
       " {'ALEGRIA': 1.0, 'MEDO': 5.20367038348013e-08},\n",
       " {'ALEGRIA': 1.0, 'MEDO': 4.1532171479730096e-08},\n",
       " {'ALEGRIA': 1.0, 'MEDO': 2.1200298405688045e-08},\n",
       " {'ALEGRIA': 1.0, 'MEDO': 1.2271688554221782e-08},\n",
       " {'ALEGRIA': 1.0, 'MEDO': 2.598322978997203e-08},\n",
       " {'ALEGRIA': 1.0, 'MEDO': 1.2664687965013854e-08},\n",
       " {'ALEGRIA': 1.0, 'MEDO': 1.0980837572560631e-08},\n",
       " {'ALEGRIA': 3.987282326534114e-08, 'MEDO': 1.0},\n",
       " {'ALEGRIA': 3.089917877119319e-09, 'MEDO': 1.0},\n",
       " {'ALEGRIA': 1.0877816869481194e-08, 'MEDO': 1.0},\n",
       " {'ALEGRIA': 3.107152579673311e-08, 'MEDO': 1.0},\n",
       " {'ALEGRIA': 1.2891833378603224e-08, 'MEDO': 1.0},\n",
       " {'ALEGRIA': 3.967133821447533e-08, 'MEDO': 1.0},\n",
       " {'ALEGRIA': 7.459258100084298e-09, 'MEDO': 1.0},\n",
       " {'ALEGRIA': 4.343958082131394e-08, 'MEDO': 1.0},\n",
       " {'ALEGRIA': 1.0111468995432915e-08, 'MEDO': 1.0},\n",
       " {'ALEGRIA': 1.6477242681389725e-08, 'MEDO': 1.0},\n",
       " {'ALEGRIA': 2.7921219114546147e-08, 'MEDO': 1.0},\n",
       " {'ALEGRIA': 3.7237786187915844e-08, 'MEDO': 1.0},\n",
       " {'ALEGRIA': 4.03974205198665e-08, 'MEDO': 1.0},\n",
       " {'ALEGRIA': 5.386494805748043e-08, 'MEDO': 1.0},\n",
       " {'ALEGRIA': 2.5053349617110143e-08, 'MEDO': 1.0},\n",
       " {'ALEGRIA': 7.84070852688501e-09, 'MEDO': 1.0},\n",
       " {'ALEGRIA': 7.725026840432747e-09, 'MEDO': 1.0},\n",
       " {'ALEGRIA': 2.146059685514956e-08, 'MEDO': 1.0},\n",
       " {'ALEGRIA': 4.729725233687532e-08, 'MEDO': 1.0},\n",
       " {'ALEGRIA': 2.5067592446248455e-08, 'MEDO': 1.0},\n",
       " {'ALEGRIA': 2.3954269678938545e-08, 'MEDO': 1.0},\n",
       " {'ALEGRIA': 1.4262041325707742e-08, 'MEDO': 1.0},\n",
       " {'ALEGRIA': 6.290198939495895e-08, 'MEDO': 0.9999998807907104},\n",
       " {'ALEGRIA': 2.363386819581592e-08, 'MEDO': 1.0},\n",
       " {'ALEGRIA': 2.8794127970854788e-08, 'MEDO': 1.0},\n",
       " {'ALEGRIA': 4.8134715768810565e-08, 'MEDO': 1.0},\n",
       " {'ALEGRIA': 3.559561312371784e-09, 'MEDO': 1.0},\n",
       " {'ALEGRIA': 7.156145187536822e-08, 'MEDO': 0.9999998807907104},\n",
       " {'ALEGRIA': 6.553432463363151e-09, 'MEDO': 1.0},\n",
       " {'ALEGRIA': 1.3532808651461892e-08, 'MEDO': 1.0},\n",
       " {'ALEGRIA': 2.4638588946857e-09, 'MEDO': 1.0},\n",
       " {'ALEGRIA': 4.926921093328929e-09, 'MEDO': 1.0},\n",
       " {'ALEGRIA': 4.766566163993957e-08, 'MEDO': 1.0},\n",
       " {'ALEGRIA': 1.928785842153502e-08, 'MEDO': 1.0},\n",
       " {'ALEGRIA': 1.0514625614632678e-08, 'MEDO': 1.0},\n",
       " {'ALEGRIA': 8.512681226591212e-09, 'MEDO': 1.0},\n",
       " {'ALEGRIA': 2.117007547042249e-08, 'MEDO': 1.0},\n",
       " {'ALEGRIA': 2.185849501401549e-09, 'MEDO': 1.0},\n",
       " {'ALEGRIA': 2.160813217244595e-08, 'MEDO': 1.0},\n",
       " {'ALEGRIA': 2.1626098689608853e-09, 'MEDO': 1.0},\n",
       " {'ALEGRIA': 3.324161212958643e-08, 'MEDO': 1.0},\n",
       " {'ALEGRIA': 4.647116824685327e-08, 'MEDO': 1.0},\n",
       " {'ALEGRIA': 3.9143692731613555e-08, 'MEDO': 1.0},\n",
       " {'ALEGRIA': 1.7170687982570598e-08, 'MEDO': 1.0},\n",
       " {'ALEGRIA': 3.874821175031684e-08, 'MEDO': 1.0},\n",
       " {'ALEGRIA': 3.166967488255068e-08, 'MEDO': 1.0},\n",
       " {'ALEGRIA': 2.6548768516931887e-08, 'MEDO': 1.0},\n",
       " {'ALEGRIA': 4.405158549047883e-08, 'MEDO': 1.0},\n",
       " {'ALEGRIA': 4.919503471256803e-09, 'MEDO': 1.0},\n",
       " {'ALEGRIA': 1.3520528696631118e-08, 'MEDO': 1.0},\n",
       " {'ALEGRIA': 1.1859875748143622e-08, 'MEDO': 1.0},\n",
       " {'ALEGRIA': 2.9163956583033723e-08, 'MEDO': 1.0},\n",
       " {'ALEGRIA': 4.839634470954479e-08, 'MEDO': 1.0},\n",
       " {'ALEGRIA': 1.4810446202773164e-08, 'MEDO': 1.0},\n",
       " {'ALEGRIA': 6.6203695858746414e-09, 'MEDO': 1.0},\n",
       " {'ALEGRIA': 3.708665152757362e-09, 'MEDO': 1.0},\n",
       " {'ALEGRIA': 5.202995367881158e-08, 'MEDO': 1.0},\n",
       " {'ALEGRIA': 2.006270172216773e-08, 'MEDO': 1.0},\n",
       " {'ALEGRIA': 3.7479559011899255e-08, 'MEDO': 1.0},\n",
       " {'ALEGRIA': 9.87243442551744e-09, 'MEDO': 1.0},\n",
       " {'ALEGRIA': 2.8404981478047375e-08, 'MEDO': 1.0},\n",
       " {'ALEGRIA': 2.8654639550040883e-08, 'MEDO': 1.0},\n",
       " {'ALEGRIA': 6.385719508728016e-09, 'MEDO': 1.0},\n",
       " {'ALEGRIA': 1.5395052344047144e-08, 'MEDO': 1.0},\n",
       " {'ALEGRIA': 1.2651987013612143e-08, 'MEDO': 1.0},\n",
       " {'ALEGRIA': 1.223739953815084e-08, 'MEDO': 1.0},\n",
       " {'ALEGRIA': 4.6611155823939043e-08, 'MEDO': 1.0},\n",
       " {'ALEGRIA': 2.9250584177020755e-08, 'MEDO': 1.0},\n",
       " {'ALEGRIA': 4.0512237120537975e-08, 'MEDO': 1.0},\n",
       " {'ALEGRIA': 3.126825376398301e-08, 'MEDO': 1.0},\n",
       " {'ALEGRIA': 2.060187931363089e-08, 'MEDO': 1.0},\n",
       " {'ALEGRIA': 7.946095337274528e-09, 'MEDO': 1.0},\n",
       " {'ALEGRIA': 2.5322671959315812e-08, 'MEDO': 1.0},\n",
       " {'ALEGRIA': 1.521430093021081e-08, 'MEDO': 1.0},\n",
       " {'ALEGRIA': 5.751591647396026e-09, 'MEDO': 1.0},\n",
       " {'ALEGRIA': 4.783962381793572e-08, 'MEDO': 1.0},\n",
       " {'ALEGRIA': 3.219602362491969e-08, 'MEDO': 1.0},\n",
       " {'ALEGRIA': 2.6211353088001488e-08, 'MEDO': 1.0},\n",
       " {'ALEGRIA': 6.151710607582572e-08, 'MEDO': 0.9999998807907104},\n",
       " {'ALEGRIA': 3.8453201511856605e-08, 'MEDO': 1.0},\n",
       " {'ALEGRIA': 3.322297814634112e-08, 'MEDO': 1.0},\n",
       " {'ALEGRIA': 4.3847553143905316e-08, 'MEDO': 1.0},\n",
       " {'ALEGRIA': 5.1896748232138634e-08, 'MEDO': 1.0},\n",
       " {'ALEGRIA': 7.641688171133865e-08, 'MEDO': 0.9999998807907104}]"
      ]
     },
     "execution_count": 43,
     "metadata": {},
     "output_type": "execute_result"
    }
   ],
   "source": [
    "predictions"
   ]
  },
  {
   "cell_type": "code",
   "execution_count": 44,
   "id": "a69f2553-b997-4e17-959e-3061d673f91f",
   "metadata": {},
   "outputs": [],
   "source": [
    "final_predictions = []\n",
    "for predction in predictions:\n",
    "  if predction['ALEGRIA'] > predction['MEDO']:\n",
    "    final_predictions.append('alegria')\n",
    "  else:\n",
    "    final_predictions.append('medo')\n",
    "\n",
    "y_training = np.array(final_predictions)"
   ]
  },
  {
   "cell_type": "code",
   "execution_count": 45,
   "id": "02904d18-1355-4290-b793-563218167fb4",
   "metadata": {
    "scrolled": true
   },
   "outputs": [
    {
     "data": {
      "text/plain": [
       "array(['alegria', 'alegria', 'alegria', 'alegria', 'alegria', 'alegria',\n",
       "       'alegria', 'alegria', 'alegria', 'alegria', 'alegria', 'alegria',\n",
       "       'alegria', 'alegria', 'alegria', 'alegria', 'alegria', 'alegria',\n",
       "       'alegria', 'alegria', 'alegria', 'alegria', 'alegria', 'alegria',\n",
       "       'alegria', 'alegria', 'alegria', 'alegria', 'alegria', 'alegria',\n",
       "       'alegria', 'alegria', 'alegria', 'alegria', 'alegria', 'alegria',\n",
       "       'alegria', 'alegria', 'alegria', 'alegria', 'alegria', 'alegria',\n",
       "       'alegria', 'alegria', 'alegria', 'alegria', 'alegria', 'alegria',\n",
       "       'alegria', 'alegria', 'alegria', 'alegria', 'alegria', 'alegria',\n",
       "       'alegria', 'alegria', 'alegria', 'alegria', 'alegria', 'alegria',\n",
       "       'alegria', 'alegria', 'alegria', 'alegria', 'alegria', 'alegria',\n",
       "       'alegria', 'alegria', 'alegria', 'alegria', 'alegria', 'alegria',\n",
       "       'alegria', 'alegria', 'alegria', 'alegria', 'alegria', 'alegria',\n",
       "       'alegria', 'alegria', 'alegria', 'alegria', 'alegria', 'alegria',\n",
       "       'alegria', 'alegria', 'alegria', 'alegria', 'alegria', 'alegria',\n",
       "       'alegria', 'alegria', 'alegria', 'alegria', 'alegria', 'alegria',\n",
       "       'alegria', 'alegria', 'alegria', 'alegria', 'alegria', 'alegria',\n",
       "       'alegria', 'alegria', 'alegria', 'alegria', 'alegria', 'alegria',\n",
       "       'alegria', 'alegria', 'alegria', 'alegria', 'medo', 'medo', 'medo',\n",
       "       'medo', 'medo', 'medo', 'medo', 'medo', 'medo', 'medo', 'medo',\n",
       "       'medo', 'medo', 'medo', 'medo', 'medo', 'medo', 'medo', 'medo',\n",
       "       'medo', 'medo', 'medo', 'medo', 'medo', 'medo', 'medo', 'medo',\n",
       "       'medo', 'medo', 'medo', 'medo', 'medo', 'medo', 'medo', 'medo',\n",
       "       'medo', 'medo', 'medo', 'medo', 'medo', 'medo', 'medo', 'medo',\n",
       "       'medo', 'medo', 'medo', 'medo', 'medo', 'medo', 'medo', 'medo',\n",
       "       'medo', 'medo', 'medo', 'medo', 'medo', 'medo', 'medo', 'medo',\n",
       "       'medo', 'medo', 'medo', 'medo', 'medo', 'medo', 'medo', 'medo',\n",
       "       'medo', 'medo', 'medo', 'medo', 'medo', 'medo', 'medo', 'medo',\n",
       "       'medo', 'medo', 'medo', 'medo', 'medo', 'medo', 'medo', 'medo',\n",
       "       'medo'], dtype='<U7')"
      ]
     },
     "execution_count": 45,
     "metadata": {},
     "output_type": "execute_result"
    }
   ],
   "source": [
    "y_training"
   ]
  },
  {
   "cell_type": "code",
   "execution_count": 46,
   "id": "f204e7c2-8dbc-4fdc-a645-496ca91e1f4b",
   "metadata": {},
   "outputs": [
    {
     "data": {
      "text/plain": [
       "array(['alegria', 'alegria', 'alegria', 'alegria', 'alegria', 'alegria',\n",
       "       'alegria', 'alegria', 'alegria', 'alegria', 'alegria', 'alegria',\n",
       "       'alegria', 'alegria', 'alegria', 'alegria', 'alegria', 'alegria',\n",
       "       'alegria', 'alegria', 'alegria', 'alegria', 'alegria', 'alegria',\n",
       "       'alegria', 'alegria', 'alegria', 'alegria', 'alegria', 'alegria',\n",
       "       'alegria', 'alegria', 'alegria', 'alegria', 'alegria', 'alegria',\n",
       "       'alegria', 'alegria', 'alegria', 'alegria', 'alegria', 'alegria',\n",
       "       'alegria', 'alegria', 'alegria', 'alegria', 'alegria', 'alegria',\n",
       "       'alegria', 'alegria', 'alegria', 'alegria', 'alegria', 'alegria',\n",
       "       'alegria', 'alegria', 'alegria', 'alegria', 'alegria', 'alegria',\n",
       "       'alegria', 'alegria', 'alegria', 'alegria', 'alegria', 'alegria',\n",
       "       'alegria', 'alegria', 'alegria', 'alegria', 'alegria', 'alegria',\n",
       "       'alegria', 'alegria', 'alegria', 'alegria', 'alegria', 'alegria',\n",
       "       'alegria', 'alegria', 'alegria', 'alegria', 'alegria', 'alegria',\n",
       "       'alegria', 'alegria', 'alegria', 'alegria', 'alegria', 'alegria',\n",
       "       'alegria', 'alegria', 'alegria', 'alegria', 'alegria', 'alegria',\n",
       "       'alegria', 'alegria', 'alegria', 'alegria', 'alegria', 'alegria',\n",
       "       'alegria', 'alegria', 'alegria', 'alegria', 'alegria', 'alegria',\n",
       "       'alegria', 'alegria', 'alegria', 'alegria', 'medo', 'medo', 'medo',\n",
       "       'medo', 'medo', 'medo', 'medo', 'medo', 'medo', 'medo', 'medo',\n",
       "       'medo', 'medo', 'medo', 'medo', 'medo', 'medo', 'medo', 'medo',\n",
       "       'medo', 'medo', 'medo', 'medo', 'medo', 'medo', 'medo', 'medo',\n",
       "       'medo', 'medo', 'medo', 'medo', 'medo', 'medo', 'medo', 'medo',\n",
       "       'medo', 'medo', 'medo', 'medo', 'medo', 'medo', 'medo', 'medo',\n",
       "       'medo', 'medo', 'medo', 'medo', 'medo', 'medo', 'medo', 'medo',\n",
       "       'medo', 'medo', 'medo', 'medo', 'medo', 'medo', 'medo', 'medo',\n",
       "       'medo', 'medo', 'medo', 'medo', 'medo', 'medo', 'medo', 'medo',\n",
       "       'medo', 'medo', 'medo', 'medo', 'medo', 'medo', 'medo', 'medo',\n",
       "       'medo', 'medo', 'medo', 'medo', 'medo', 'medo', 'medo', 'medo',\n",
       "       'medo'], dtype=object)"
      ]
     },
     "execution_count": 46,
     "metadata": {},
     "output_type": "execute_result"
    }
   ],
   "source": [
    "X_training = training_base_preprocessing['emocao'].values\n",
    "X_training"
   ]
  },
  {
   "cell_type": "markdown",
   "id": "424c6b2d-3a2b-45a6-bf9b-37a5614bbb38",
   "metadata": {},
   "source": [
    "##### Aaccuracy_score"
   ]
  },
  {
   "cell_type": "code",
   "execution_count": 47,
   "id": "151ecfc0-b61d-408c-96a2-a09643de374e",
   "metadata": {},
   "outputs": [
    {
     "data": {
      "text/plain": [
       "1.0"
      ]
     },
     "execution_count": 47,
     "metadata": {},
     "output_type": "execute_result"
    }
   ],
   "source": [
    "accuracy_score(X_training, y_training)"
   ]
  },
  {
   "cell_type": "markdown",
   "id": "f1cdbd53-e2b0-4c94-9005-eb19ca13efc4",
   "metadata": {},
   "source": [
    "### 100 % of accuracy"
   ]
  },
  {
   "cell_type": "markdown",
   "id": "a842ef9c-08a3-4ce2-8f13-9fbb8e5fc561",
   "metadata": {},
   "source": [
    "### Testing the test_base"
   ]
  },
  {
   "cell_type": "code",
   "execution_count": 48,
   "id": "75be814e-74d2-41d1-82d4-4cf7c954f675",
   "metadata": {},
   "outputs": [
    {
     "data": {
      "text/html": [
       "<div>\n",
       "<style scoped>\n",
       "    .dataframe tbody tr th:only-of-type {\n",
       "        vertical-align: middle;\n",
       "    }\n",
       "\n",
       "    .dataframe tbody tr th {\n",
       "        vertical-align: top;\n",
       "    }\n",
       "\n",
       "    .dataframe thead th {\n",
       "        text-align: right;\n",
       "    }\n",
       "</style>\n",
       "<table border=\"1\" class=\"dataframe\">\n",
       "  <thead>\n",
       "    <tr style=\"text-align: right;\">\n",
       "      <th></th>\n",
       "      <th>texto</th>\n",
       "      <th>emocao</th>\n",
       "    </tr>\n",
       "  </thead>\n",
       "  <tbody>\n",
       "    <tr>\n",
       "      <th>0</th>\n",
       "      <td>não precisei pagar o ingresso</td>\n",
       "      <td>alegria</td>\n",
       "    </tr>\n",
       "    <tr>\n",
       "      <th>1</th>\n",
       "      <td>se eu ajeitar tudo fica bem</td>\n",
       "      <td>alegria</td>\n",
       "    </tr>\n",
       "    <tr>\n",
       "      <th>2</th>\n",
       "      <td>minha fortuna ultrapassará a sua</td>\n",
       "      <td>alegria</td>\n",
       "    </tr>\n",
       "    <tr>\n",
       "      <th>3</th>\n",
       "      <td>sou muito afortunado</td>\n",
       "      <td>alegria</td>\n",
       "    </tr>\n",
       "    <tr>\n",
       "      <th>4</th>\n",
       "      <td>é benéfico para todos esta nova medida</td>\n",
       "      <td>alegria</td>\n",
       "    </tr>\n",
       "  </tbody>\n",
       "</table>\n",
       "</div>"
      ],
      "text/plain": [
       "                                    texto   emocao\n",
       "0           não precisei pagar o ingresso  alegria\n",
       "1             se eu ajeitar tudo fica bem  alegria\n",
       "2        minha fortuna ultrapassará a sua  alegria\n",
       "3                    sou muito afortunado  alegria\n",
       "4  é benéfico para todos esta nova medida  alegria"
      ]
     },
     "execution_count": 48,
     "metadata": {},
     "output_type": "execute_result"
    }
   ],
   "source": [
    "test_base = pd.read_csv('base_teste.txt', encoding='utf-8')\n",
    "test_base.head()"
   ]
  },
  {
   "cell_type": "code",
   "execution_count": 49,
   "id": "49cd1087-796f-42bd-882e-a0922a45877e",
   "metadata": {},
   "outputs": [],
   "source": [
    "test_base_preprocessing = test_base\n",
    "test_base_preprocessing['texto'] = test_base['texto'].apply(preprocessing_text)"
   ]
  },
  {
   "cell_type": "code",
   "execution_count": 50,
   "id": "47dbddf5-9e43-4d1a-8b0e-9bc926692394",
   "metadata": {},
   "outputs": [],
   "source": [
    "real_answers = []\n",
    "for text in test_base_preprocessing['texto']:\n",
    "  real_answer = model_training(text)\n",
    "  real_answers.append(real_answer.cats)"
   ]
  },
  {
   "cell_type": "code",
   "execution_count": 51,
   "id": "ffeecdeb-8cba-4782-af4c-70bc028612ca",
   "metadata": {},
   "outputs": [],
   "source": [
    "final_real_answers = []\n",
    "for real_answer in real_answers:\n",
    "  if real_answer['ALEGRIA'] > real_answer['MEDO']:\n",
    "    final_real_answers.append('alegria')\n",
    "  else:\n",
    "    final_real_answers.append('medo')\n",
    "\n",
    "X_test = np.array(final_real_answers)"
   ]
  },
  {
   "cell_type": "code",
   "execution_count": 52,
   "id": "f9b21f76-8ec3-46f9-ac10-877d01e424c7",
   "metadata": {},
   "outputs": [
    {
     "data": {
      "text/plain": [
       "array(['medo', 'alegria', 'alegria', 'alegria', 'alegria', 'alegria',\n",
       "       'medo', 'alegria', 'alegria', 'alegria', 'alegria', 'medo',\n",
       "       'alegria', 'alegria', 'alegria', 'alegria', 'alegria', 'alegria',\n",
       "       'alegria', 'alegria', 'alegria', 'alegria', 'medo', 'alegria',\n",
       "       'medo', 'alegria', 'alegria', 'alegria', 'alegria', 'medo',\n",
       "       'alegria', 'alegria', 'alegria', 'alegria', 'alegria', 'alegria',\n",
       "       'alegria', 'alegria', 'alegria', 'alegria', 'alegria', 'alegria',\n",
       "       'medo', 'alegria', 'alegria', 'alegria', 'alegria', 'alegria',\n",
       "       'alegria', 'alegria', 'alegria', 'medo', 'alegria', 'alegria',\n",
       "       'alegria', 'medo', 'medo', 'medo', 'alegria', 'medo', 'medo',\n",
       "       'alegria', 'medo', 'alegria', 'alegria', 'medo', 'alegria',\n",
       "       'alegria', 'alegria', 'alegria', 'alegria', 'alegria', 'alegria',\n",
       "       'medo', 'medo', 'medo', 'alegria', 'medo', 'medo', 'medo',\n",
       "       'alegria', 'alegria', 'medo', 'alegria'], dtype='<U7')"
      ]
     },
     "execution_count": 52,
     "metadata": {},
     "output_type": "execute_result"
    }
   ],
   "source": [
    "X_test"
   ]
  },
  {
   "cell_type": "code",
   "execution_count": 55,
   "id": "40c5fbe9-da9a-4f9a-8af3-3f66cf426dda",
   "metadata": {},
   "outputs": [
    {
     "data": {
      "text/plain": [
       "array(['alegria', 'alegria', 'alegria', 'alegria', 'alegria', 'alegria',\n",
       "       'alegria', 'alegria', 'alegria', 'alegria', 'alegria', 'alegria',\n",
       "       'alegria', 'alegria', 'alegria', 'alegria', 'alegria', 'alegria',\n",
       "       'alegria', 'alegria', 'alegria', 'alegria', 'alegria', 'alegria',\n",
       "       'alegria', 'alegria', 'alegria', 'alegria', 'alegria', 'alegria',\n",
       "       'alegria', 'alegria', 'alegria', 'alegria', 'alegria', 'alegria',\n",
       "       'alegria', 'alegria', 'alegria', 'alegria', 'alegria', 'alegria',\n",
       "       'alegria', 'alegria', 'alegria', 'alegria', 'alegria', 'alegria',\n",
       "       'medo', 'medo', 'medo', 'medo', 'medo', 'medo', 'medo', 'medo',\n",
       "       'medo', 'medo', 'medo', 'medo', 'medo', 'medo', 'medo', 'medo',\n",
       "       'medo', 'medo', 'medo', 'medo', 'medo', 'medo', 'medo', 'medo',\n",
       "       'medo', 'medo', 'medo', 'medo', 'medo', 'medo', 'medo', 'medo',\n",
       "       'medo', 'medo', 'medo', 'medo'], dtype=object)"
      ]
     },
     "execution_count": 55,
     "metadata": {},
     "output_type": "execute_result"
    }
   ],
   "source": [
    "y_test = test_base_preprocessing['emocao'].values\n",
    "y_test"
   ]
  },
  {
   "cell_type": "markdown",
   "id": "68b425aa-1e08-4040-9b9c-72aabb7f2bd0",
   "metadata": {},
   "source": [
    "##### Aaccuracy_score"
   ]
  },
  {
   "cell_type": "code",
   "execution_count": 56,
   "id": "36bb55c5-3eb4-4b76-8c89-75ac76087376",
   "metadata": {},
   "outputs": [
    {
     "data": {
      "text/plain": [
       "0.6666666666666666"
      ]
     },
     "execution_count": 56,
     "metadata": {},
     "output_type": "execute_result"
    }
   ],
   "source": [
    "accuracy_score(y_test, X_test)"
   ]
  },
  {
   "cell_type": "markdown",
   "id": "4268eefd-c249-460d-bda7-d73e98bed148",
   "metadata": {},
   "source": [
    "### 66.66 % of accuracy"
   ]
  },
  {
   "cell_type": "code",
   "execution_count": 57,
   "id": "a6a12728-1623-419a-9ccb-bc60e47997ef",
   "metadata": {},
   "outputs": [
    {
     "data": {
      "text/plain": [
       "array([[41,  7],\n",
       "       [21, 15]], dtype=int64)"
      ]
     },
     "execution_count": 57,
     "metadata": {},
     "output_type": "execute_result"
    }
   ],
   "source": [
    "cm = confusion_matrix(y_test, X_test)\n",
    "cm"
   ]
  }
 ],
 "metadata": {
  "kernelspec": {
   "display_name": "Python 3 (ipykernel)",
   "language": "python",
   "name": "python3"
  },
  "language_info": {
   "codemirror_mode": {
    "name": "ipython",
    "version": 3
   },
   "file_extension": ".py",
   "mimetype": "text/x-python",
   "name": "python",
   "nbconvert_exporter": "python",
   "pygments_lexer": "ipython3",
   "version": "3.11.5"
  }
 },
 "nbformat": 4,
 "nbformat_minor": 5
}
