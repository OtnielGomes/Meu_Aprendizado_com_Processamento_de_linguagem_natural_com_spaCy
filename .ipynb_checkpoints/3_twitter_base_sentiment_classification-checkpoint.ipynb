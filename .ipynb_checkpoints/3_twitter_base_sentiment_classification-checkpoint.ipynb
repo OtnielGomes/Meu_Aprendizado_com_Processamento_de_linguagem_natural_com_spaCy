{
 "cells": [
  {
   "cell_type": "markdown",
   "id": "892e7e92-bee4-4144-ad78-8e25a5d080a3",
   "metadata": {},
   "source": [
    "#### Imports: "
   ]
  },
  {
   "cell_type": "code",
   "execution_count": 93,
   "id": "528d64af-a5cb-450a-bf24-d9ed39169cc2",
   "metadata": {},
   "outputs": [],
   "source": [
    "import spacy\n",
    "from spacy.lang.pt.stop_words import STOP_WORDS\n",
    "import string \n",
    "import pandas as pd\n",
    "import numpy as np\n",
    "import matplotlib.pyplot as plt\n",
    "import seaborn as sns\n",
    "import re\n",
    "from spacy.training import Example\n",
    "import random\n",
    "import numpy as np\n",
    "from sklearn.metrics import accuracy_score, confusion_matrix"
   ]
  },
  {
   "cell_type": "markdown",
   "id": "d522b646-b032-48f6-98ca-242a4a1987aa",
   "metadata": {},
   "source": [
    "##### loading space in Portuguese:"
   ]
  },
  {
   "cell_type": "code",
   "execution_count": 2,
   "id": "a9238769-1042-4f7e-9d09-fb0853cef172",
   "metadata": {},
   "outputs": [
    {
     "data": {
      "text/plain": [
       "<spacy.lang.pt.Portuguese at 0x207bce1cc10>"
      ]
     },
     "execution_count": 2,
     "metadata": {},
     "output_type": "execute_result"
    }
   ],
   "source": [
    "pln = spacy.load('pt_core_news_sm')\n",
    "pln"
   ]
  },
  {
   "cell_type": "markdown",
   "id": "9761c3f3-a7df-451e-a851-08a18a83c1ab",
   "metadata": {},
   "source": [
    "#### loading twitter base :"
   ]
  },
  {
   "cell_type": "code",
   "execution_count": 3,
   "id": "f7bc5a28-9e78-406b-b769-a75d9d4c19f0",
   "metadata": {
    "scrolled": true
   },
   "outputs": [
    {
     "data": {
      "text/html": [
       "<div>\n",
       "<style scoped>\n",
       "    .dataframe tbody tr th:only-of-type {\n",
       "        vertical-align: middle;\n",
       "    }\n",
       "\n",
       "    .dataframe tbody tr th {\n",
       "        vertical-align: top;\n",
       "    }\n",
       "\n",
       "    .dataframe thead th {\n",
       "        text-align: right;\n",
       "    }\n",
       "</style>\n",
       "<table border=\"1\" class=\"dataframe\">\n",
       "  <thead>\n",
       "    <tr style=\"text-align: right;\">\n",
       "      <th></th>\n",
       "      <th>id</th>\n",
       "      <th>tweet_text</th>\n",
       "      <th>tweet_date</th>\n",
       "      <th>sentiment</th>\n",
       "      <th>query_used</th>\n",
       "    </tr>\n",
       "  </thead>\n",
       "  <tbody>\n",
       "    <tr>\n",
       "      <th>0</th>\n",
       "      <td>1050785521201541121</td>\n",
       "      <td>@Laranjito76 A pessoa certa para isso seria o ...</td>\n",
       "      <td>Fri Oct 12 16:29:25 +0000 2018</td>\n",
       "      <td>1</td>\n",
       "      <td>:)</td>\n",
       "    </tr>\n",
       "    <tr>\n",
       "      <th>1</th>\n",
       "      <td>1050785431955140608</td>\n",
       "      <td>@behin_d_curtain Para mim, é precisamente o co...</td>\n",
       "      <td>Fri Oct 12 16:29:04 +0000 2018</td>\n",
       "      <td>1</td>\n",
       "      <td>:)</td>\n",
       "    </tr>\n",
       "    <tr>\n",
       "      <th>2</th>\n",
       "      <td>1050785401248645120</td>\n",
       "      <td>Vou fazer um video hoje... estou pensando em f...</td>\n",
       "      <td>Fri Oct 12 16:28:56 +0000 2018</td>\n",
       "      <td>1</td>\n",
       "      <td>:)</td>\n",
       "    </tr>\n",
       "    <tr>\n",
       "      <th>3</th>\n",
       "      <td>1050785370982547461</td>\n",
       "      <td>aaaaaaaa amei tanto essas polaroids, nem sei e...</td>\n",
       "      <td>Fri Oct 12 16:28:49 +0000 2018</td>\n",
       "      <td>1</td>\n",
       "      <td>:)</td>\n",
       "    </tr>\n",
       "    <tr>\n",
       "      <th>4</th>\n",
       "      <td>1050785368902131713</td>\n",
       "      <td>Valoriza o coração do menininho que vc tem. El...</td>\n",
       "      <td>Fri Oct 12 16:28:49 +0000 2018</td>\n",
       "      <td>1</td>\n",
       "      <td>:)</td>\n",
       "    </tr>\n",
       "  </tbody>\n",
       "</table>\n",
       "</div>"
      ],
      "text/plain": [
       "                    id                                         tweet_text  \\\n",
       "0  1050785521201541121  @Laranjito76 A pessoa certa para isso seria o ...   \n",
       "1  1050785431955140608  @behin_d_curtain Para mim, é precisamente o co...   \n",
       "2  1050785401248645120  Vou fazer um video hoje... estou pensando em f...   \n",
       "3  1050785370982547461  aaaaaaaa amei tanto essas polaroids, nem sei e...   \n",
       "4  1050785368902131713  Valoriza o coração do menininho que vc tem. El...   \n",
       "\n",
       "                       tweet_date  sentiment query_used  \n",
       "0  Fri Oct 12 16:29:25 +0000 2018          1         :)  \n",
       "1  Fri Oct 12 16:29:04 +0000 2018          1         :)  \n",
       "2  Fri Oct 12 16:28:56 +0000 2018          1         :)  \n",
       "3  Fri Oct 12 16:28:49 +0000 2018          1         :)  \n",
       "4  Fri Oct 12 16:28:49 +0000 2018          1         :)  "
      ]
     },
     "execution_count": 3,
     "metadata": {},
     "output_type": "execute_result"
    }
   ],
   "source": [
    "traning_base_twitter = pd.read_csv('Twitter_train.csv', delimiter=';')\n",
    "traning_base_twitter.head()"
   ]
  },
  {
   "cell_type": "code",
   "execution_count": 4,
   "id": "028fda8d-fa78-4732-88d5-15c2b3c41038",
   "metadata": {},
   "outputs": [
    {
     "data": {
      "text/html": [
       "<div>\n",
       "<style scoped>\n",
       "    .dataframe tbody tr th:only-of-type {\n",
       "        vertical-align: middle;\n",
       "    }\n",
       "\n",
       "    .dataframe tbody tr th {\n",
       "        vertical-align: top;\n",
       "    }\n",
       "\n",
       "    .dataframe thead th {\n",
       "        text-align: right;\n",
       "    }\n",
       "</style>\n",
       "<table border=\"1\" class=\"dataframe\">\n",
       "  <thead>\n",
       "    <tr style=\"text-align: right;\">\n",
       "      <th></th>\n",
       "      <th>id</th>\n",
       "      <th>tweet_text</th>\n",
       "      <th>tweet_date</th>\n",
       "      <th>sentiment</th>\n",
       "      <th>query_used</th>\n",
       "    </tr>\n",
       "  </thead>\n",
       "  <tbody>\n",
       "    <tr>\n",
       "      <th>0</th>\n",
       "      <td>1029536486021099522</td>\n",
       "      <td>@Gazo1a Nossa! Muito obrigada :)</td>\n",
       "      <td>Wed Aug 15 01:13:20 +0000 2018</td>\n",
       "      <td>1</td>\n",
       "      <td>:)</td>\n",
       "    </tr>\n",
       "    <tr>\n",
       "      <th>1</th>\n",
       "      <td>1029536496368406528</td>\n",
       "      <td>@BerzGamer vai pa puta que te pariu :)</td>\n",
       "      <td>Wed Aug 15 01:13:23 +0000 2018</td>\n",
       "      <td>1</td>\n",
       "      <td>:)</td>\n",
       "    </tr>\n",
       "    <tr>\n",
       "      <th>2</th>\n",
       "      <td>1029536531655131137</td>\n",
       "      <td>QUER MAIS DESCONTOS? (14/08) ⭐⭐⭐⭐⭐ 🌐 Confira n...</td>\n",
       "      <td>Wed Aug 15 01:13:31 +0000 2018</td>\n",
       "      <td>1</td>\n",
       "      <td>:)</td>\n",
       "    </tr>\n",
       "    <tr>\n",
       "      <th>3</th>\n",
       "      <td>1029536560117678081</td>\n",
       "      <td>EU VOU PEGAR VCS, ME AJUDEM GALERA, PELO AMOR ...</td>\n",
       "      <td>Wed Aug 15 01:13:38 +0000 2018</td>\n",
       "      <td>1</td>\n",
       "      <td>:)</td>\n",
       "    </tr>\n",
       "    <tr>\n",
       "      <th>4</th>\n",
       "      <td>1029536605852377088</td>\n",
       "      <td>Estávamos em casa do Zé e eu estava a morrer d...</td>\n",
       "      <td>Wed Aug 15 01:13:49 +0000 2018</td>\n",
       "      <td>1</td>\n",
       "      <td>:)</td>\n",
       "    </tr>\n",
       "  </tbody>\n",
       "</table>\n",
       "</div>"
      ],
      "text/plain": [
       "                    id                                         tweet_text  \\\n",
       "0  1029536486021099522                   @Gazo1a Nossa! Muito obrigada :)   \n",
       "1  1029536496368406528             @BerzGamer vai pa puta que te pariu :)   \n",
       "2  1029536531655131137  QUER MAIS DESCONTOS? (14/08) ⭐⭐⭐⭐⭐ 🌐 Confira n...   \n",
       "3  1029536560117678081  EU VOU PEGAR VCS, ME AJUDEM GALERA, PELO AMOR ...   \n",
       "4  1029536605852377088  Estávamos em casa do Zé e eu estava a morrer d...   \n",
       "\n",
       "                       tweet_date  sentiment query_used  \n",
       "0  Wed Aug 15 01:13:20 +0000 2018          1         :)  \n",
       "1  Wed Aug 15 01:13:23 +0000 2018          1         :)  \n",
       "2  Wed Aug 15 01:13:31 +0000 2018          1         :)  \n",
       "3  Wed Aug 15 01:13:38 +0000 2018          1         :)  \n",
       "4  Wed Aug 15 01:13:49 +0000 2018          1         :)  "
      ]
     },
     "execution_count": 4,
     "metadata": {},
     "output_type": "execute_result"
    }
   ],
   "source": [
    "test_base_twitter = pd.read_csv('Twitter_test.csv', delimiter=';')\n",
    "test_base_twitter.head()"
   ]
  },
  {
   "cell_type": "code",
   "execution_count": 5,
   "id": "00ada0de-6b78-4c92-8794-97c53dc9ea93",
   "metadata": {
    "scrolled": true
   },
   "outputs": [
    {
     "name": "stderr",
     "output_type": "stream",
     "text": [
      "C:\\Users\\otnie\\AppData\\Local\\Programs\\Python\\Python311\\Lib\\site-packages\\seaborn\\_oldcore.py:1498: FutureWarning: is_categorical_dtype is deprecated and will be removed in a future version. Use isinstance(dtype, CategoricalDtype) instead\n",
      "  if pd.api.types.is_categorical_dtype(vector):\n",
      "C:\\Users\\otnie\\AppData\\Local\\Programs\\Python\\Python311\\Lib\\site-packages\\seaborn\\_oldcore.py:1498: FutureWarning: is_categorical_dtype is deprecated and will be removed in a future version. Use isinstance(dtype, CategoricalDtype) instead\n",
      "  if pd.api.types.is_categorical_dtype(vector):\n",
      "C:\\Users\\otnie\\AppData\\Local\\Programs\\Python\\Python311\\Lib\\site-packages\\seaborn\\_oldcore.py:1498: FutureWarning: is_categorical_dtype is deprecated and will be removed in a future version. Use isinstance(dtype, CategoricalDtype) instead\n",
      "  if pd.api.types.is_categorical_dtype(vector):\n"
     ]
    },
    {
     "data": {
      "image/png": "[encoded data removed]",
      "text/plain": [
       "<Figure size 640x480 with 1 Axes>"
      ]
     },
     "metadata": {},
     "output_type": "display_data"
    }
   ],
   "source": [
    "sns.countplot(data=traning_base_twitter, x='sentiment')\n",
    "plt.xlabel('score')\n",
    "plt.ylabel('sentiment')\n",
    "plt.show()"
   ]
  },
  {
   "cell_type": "markdown",
   "id": "e3898d75-f404-483c-80d9-6a8998c91352",
   "metadata": {},
   "source": [
    "## Preprocessing \n",
    "#"
   ]
  },
  {
   "cell_type": "markdown",
   "id": "605d06e3-46c2-4f17-8b8f-2e148c14cf14",
   "metadata": {},
   "source": [
    "#### Removing irrelevant columns Training base:\n"
   ]
  },
  {
   "cell_type": "code",
   "execution_count": 6,
   "id": "4efbfe1a-114b-4402-905e-a52112837330",
   "metadata": {},
   "outputs": [
    {
     "data": {
      "text/html": [
       "<div>\n",
       "<style scoped>\n",
       "    .dataframe tbody tr th:only-of-type {\n",
       "        vertical-align: middle;\n",
       "    }\n",
       "\n",
       "    .dataframe tbody tr th {\n",
       "        vertical-align: top;\n",
       "    }\n",
       "\n",
       "    .dataframe thead th {\n",
       "        text-align: right;\n",
       "    }\n",
       "</style>\n",
       "<table border=\"1\" class=\"dataframe\">\n",
       "  <thead>\n",
       "    <tr style=\"text-align: right;\">\n",
       "      <th></th>\n",
       "      <th>tweet_text</th>\n",
       "      <th>sentiment</th>\n",
       "    </tr>\n",
       "  </thead>\n",
       "  <tbody>\n",
       "    <tr>\n",
       "      <th>0</th>\n",
       "      <td>@Laranjito76 A pessoa certa para isso seria o ...</td>\n",
       "      <td>1</td>\n",
       "    </tr>\n",
       "    <tr>\n",
       "      <th>1</th>\n",
       "      <td>@behin_d_curtain Para mim, é precisamente o co...</td>\n",
       "      <td>1</td>\n",
       "    </tr>\n",
       "    <tr>\n",
       "      <th>2</th>\n",
       "      <td>Vou fazer um video hoje... estou pensando em f...</td>\n",
       "      <td>1</td>\n",
       "    </tr>\n",
       "    <tr>\n",
       "      <th>3</th>\n",
       "      <td>aaaaaaaa amei tanto essas polaroids, nem sei e...</td>\n",
       "      <td>1</td>\n",
       "    </tr>\n",
       "    <tr>\n",
       "      <th>4</th>\n",
       "      <td>Valoriza o coração do menininho que vc tem. El...</td>\n",
       "      <td>1</td>\n",
       "    </tr>\n",
       "    <tr>\n",
       "      <th>5</th>\n",
       "      <td>@KingJokerLeto mas amiga eu to aqui ainda :)</td>\n",
       "      <td>1</td>\n",
       "    </tr>\n",
       "    <tr>\n",
       "      <th>6</th>\n",
       "      <td>@RivasJairo Bravo, Jairo!!! :)))</td>\n",
       "      <td>1</td>\n",
       "    </tr>\n",
       "    <tr>\n",
       "      <th>7</th>\n",
       "      <td>@inquilinasls @Spotify socorro ksoaksosks acho...</td>\n",
       "      <td>1</td>\n",
       "    </tr>\n",
       "    <tr>\n",
       "      <th>8</th>\n",
       "      <td>@chimekarlla gosto muito de fazenda :) , mas m...</td>\n",
       "      <td>1</td>\n",
       "    </tr>\n",
       "    <tr>\n",
       "      <th>9</th>\n",
       "      <td>Amanha vou ver venom :D</td>\n",
       "      <td>1</td>\n",
       "    </tr>\n",
       "  </tbody>\n",
       "</table>\n",
       "</div>"
      ],
      "text/plain": [
       "                                          tweet_text  sentiment\n",
       "0  @Laranjito76 A pessoa certa para isso seria o ...          1\n",
       "1  @behin_d_curtain Para mim, é precisamente o co...          1\n",
       "2  Vou fazer um video hoje... estou pensando em f...          1\n",
       "3  aaaaaaaa amei tanto essas polaroids, nem sei e...          1\n",
       "4  Valoriza o coração do menininho que vc tem. El...          1\n",
       "5       @KingJokerLeto mas amiga eu to aqui ainda :)          1\n",
       "6                   @RivasJairo Bravo, Jairo!!! :)))          1\n",
       "7  @inquilinasls @Spotify socorro ksoaksosks acho...          1\n",
       "8  @chimekarlla gosto muito de fazenda :) , mas m...          1\n",
       "9                            Amanha vou ver venom :D          1"
      ]
     },
     "execution_count": 6,
     "metadata": {},
     "output_type": "execute_result"
    }
   ],
   "source": [
    "training_twitter = traning_base_twitter.copy()\n",
    "training_twitter.drop(['id', 'tweet_date', 'query_used'], axis=1, inplace=True)\n",
    "training_twitter.head(10)"
   ]
  },
  {
   "cell_type": "markdown",
   "id": "38c765ed-8358-451b-bce2-58025d0b85c0",
   "metadata": {},
   "source": [
    "#### Removing irrelevant columns Test base:"
   ]
  },
  {
   "cell_type": "code",
   "execution_count": 7,
   "id": "5351e491-e089-419b-b1f9-5552950f88b7",
   "metadata": {},
   "outputs": [
    {
     "data": {
      "text/html": [
       "<div>\n",
       "<style scoped>\n",
       "    .dataframe tbody tr th:only-of-type {\n",
       "        vertical-align: middle;\n",
       "    }\n",
       "\n",
       "    .dataframe tbody tr th {\n",
       "        vertical-align: top;\n",
       "    }\n",
       "\n",
       "    .dataframe thead th {\n",
       "        text-align: right;\n",
       "    }\n",
       "</style>\n",
       "<table border=\"1\" class=\"dataframe\">\n",
       "  <thead>\n",
       "    <tr style=\"text-align: right;\">\n",
       "      <th></th>\n",
       "      <th>tweet_text</th>\n",
       "      <th>sentiment</th>\n",
       "    </tr>\n",
       "  </thead>\n",
       "  <tbody>\n",
       "    <tr>\n",
       "      <th>0</th>\n",
       "      <td>@Gazo1a Nossa! Muito obrigada :)</td>\n",
       "      <td>1</td>\n",
       "    </tr>\n",
       "    <tr>\n",
       "      <th>1</th>\n",
       "      <td>@BerzGamer vai pa puta que te pariu :)</td>\n",
       "      <td>1</td>\n",
       "    </tr>\n",
       "    <tr>\n",
       "      <th>2</th>\n",
       "      <td>QUER MAIS DESCONTOS? (14/08) ⭐⭐⭐⭐⭐ 🌐 Confira n...</td>\n",
       "      <td>1</td>\n",
       "    </tr>\n",
       "    <tr>\n",
       "      <th>3</th>\n",
       "      <td>EU VOU PEGAR VCS, ME AJUDEM GALERA, PELO AMOR ...</td>\n",
       "      <td>1</td>\n",
       "    </tr>\n",
       "    <tr>\n",
       "      <th>4</th>\n",
       "      <td>Estávamos em casa do Zé e eu estava a morrer d...</td>\n",
       "      <td>1</td>\n",
       "    </tr>\n",
       "    <tr>\n",
       "      <th>5</th>\n",
       "      <td>Precisa :) https://t.co/DcLGDHbjT0</td>\n",
       "      <td>1</td>\n",
       "    </tr>\n",
       "    <tr>\n",
       "      <th>6</th>\n",
       "      <td>@Jeniabreu07 mas por acaso adoro beijos e abra...</td>\n",
       "      <td>1</td>\n",
       "    </tr>\n",
       "    <tr>\n",
       "      <th>7</th>\n",
       "      <td>Solteiro s sozinho sempre :)</td>\n",
       "      <td>1</td>\n",
       "    </tr>\n",
       "    <tr>\n",
       "      <th>8</th>\n",
       "      <td>Lindezas Cortador kit Mário coleção Bia Cravol...</td>\n",
       "      <td>1</td>\n",
       "    </tr>\n",
       "    <tr>\n",
       "      <th>9</th>\n",
       "      <td>@otphurts Claro que sim :))</td>\n",
       "      <td>1</td>\n",
       "    </tr>\n",
       "  </tbody>\n",
       "</table>\n",
       "</div>"
      ],
      "text/plain": [
       "                                          tweet_text  sentiment\n",
       "0                   @Gazo1a Nossa! Muito obrigada :)          1\n",
       "1             @BerzGamer vai pa puta que te pariu :)          1\n",
       "2  QUER MAIS DESCONTOS? (14/08) ⭐⭐⭐⭐⭐ 🌐 Confira n...          1\n",
       "3  EU VOU PEGAR VCS, ME AJUDEM GALERA, PELO AMOR ...          1\n",
       "4  Estávamos em casa do Zé e eu estava a morrer d...          1\n",
       "5                 Precisa :) https://t.co/DcLGDHbjT0          1\n",
       "6  @Jeniabreu07 mas por acaso adoro beijos e abra...          1\n",
       "7                       Solteiro s sozinho sempre :)          1\n",
       "8  Lindezas Cortador kit Mário coleção Bia Cravol...          1\n",
       "9                        @otphurts Claro que sim :))          1"
      ]
     },
     "execution_count": 7,
     "metadata": {},
     "output_type": "execute_result"
    }
   ],
   "source": [
    "test_twitter = test_base_twitter.copy()\n",
    "test_twitter.drop(['id', 'tweet_date', 'query_used'], axis=1, inplace=True)\n",
    "test_twitter.head(10)"
   ]
  },
  {
   "cell_type": "markdown",
   "id": "5c85fff6-d78f-4858-b718-4e3e1f1a8c3e",
   "metadata": {},
   "source": [
    "#\n",
    "#### Preprocessing tweet text"
   ]
  },
  {
   "cell_type": "code",
   "execution_count": 8,
   "id": "ed611851-9fcd-480b-a65a-b1a42fa79435",
   "metadata": {},
   "outputs": [],
   "source": [
    "punctuation =  string.punctuation\n",
    "stop_words = STOP_WORDS"
   ]
  },
  {
   "cell_type": "code",
   "execution_count": 9,
   "id": "fab7d87a-11fd-441d-8c43-09d33b6f69ba",
   "metadata": {},
   "outputs": [],
   "source": [
    "def preprocessing_text(text):\n",
    "    # small letters\n",
    "    text = text.lower()\n",
    "    # removing username \n",
    "    text = re.sub(r'@[A-Za-z0-9$-_@.&+]+', ' ', text)\n",
    "    # removin URL's\n",
    "    text = re.sub(r'https?://[A-Za-z0-9./]+', ' ', text)\n",
    "    # removing whitespace\n",
    "    text = re.sub(r' +', ' ', text)\n",
    "    # describing the emoticons\n",
    "    emotion_list = {':)': 'emocaopositiva', \n",
    "                    ':d': 'emocaopositiva', \n",
    "                    ':p': 'emocaopositiva',\n",
    "                    ':(': 'emocaonegativa'}\n",
    "    for emotion in emotion_list:\n",
    "        text = text.replace(emotion, emotion_list[emotion])\n",
    "    # lemmatization\n",
    "    text_list = []\n",
    "    doc = pln(text)\n",
    "    text_list = [token.lemma_ for token in doc]\n",
    "    # Removing stop_words and punctuation\n",
    "    text_list = [word for word in text_list if word not in stop_words and word not in string.punctuation]\n",
    "    # Removing numbers\n",
    "    text_list = ' '.join([str(element).lower() for element in text_list if not element.isdigit()])\n",
    "    return text_list"
   ]
  },
  {
   "cell_type": "markdown",
   "id": "6c867b3b-039e-4e43-9981-e8198fbf497e",
   "metadata": {},
   "source": [
    "#### Training base"
   ]
  },
  {
   "cell_type": "code",
   "execution_count": 10,
   "id": "f18f5403-82ad-4d50-96df-e8b058da074d",
   "metadata": {},
   "outputs": [],
   "source": [
    "training_twitter_preprocessing = training_twitter\n",
    "training_twitter_preprocessing['tweet_text'] = training_twitter_preprocessing['tweet_text'].apply(preprocessing_text)"
   ]
  },
  {
   "cell_type": "code",
   "execution_count": 11,
   "id": "4c5022a6-55b8-480b-b63a-c5ea91198ee9",
   "metadata": {},
   "outputs": [
    {
     "data": {
      "text/html": [
       "<div>\n",
       "<style scoped>\n",
       "    .dataframe tbody tr th:only-of-type {\n",
       "        vertical-align: middle;\n",
       "    }\n",
       "\n",
       "    .dataframe tbody tr th {\n",
       "        vertical-align: top;\n",
       "    }\n",
       "\n",
       "    .dataframe thead th {\n",
       "        text-align: right;\n",
       "    }\n",
       "</style>\n",
       "<table border=\"1\" class=\"dataframe\">\n",
       "  <thead>\n",
       "    <tr style=\"text-align: right;\">\n",
       "      <th></th>\n",
       "      <th>tweet_text</th>\n",
       "      <th>sentiment</th>\n",
       "    </tr>\n",
       "  </thead>\n",
       "  <tbody>\n",
       "    <tr>\n",
       "      <th>0</th>\n",
       "      <td>pessoa certo vale azevedo emocaopositivo</td>\n",
       "      <td>1</td>\n",
       "    </tr>\n",
       "    <tr>\n",
       "      <th>1</th>\n",
       "      <td>precisamente contrário emocaopositiva vir ch...</td>\n",
       "      <td>1</td>\n",
       "    </tr>\n",
       "    <tr>\n",
       "      <th>2</th>\n",
       "      <td>video hoje ... pensar falar meta de o csgo pag...</td>\n",
       "      <td>1</td>\n",
       "    </tr>\n",
       "    <tr>\n",
       "      <th>3</th>\n",
       "      <td>aaaaaaaa amei polaroids expressar to apaixonar...</td>\n",
       "      <td>1</td>\n",
       "    </tr>\n",
       "    <tr>\n",
       "      <th>4</th>\n",
       "      <td>valorizar coração de o menininho vc diferente ...</td>\n",
       "      <td>1</td>\n",
       "    </tr>\n",
       "    <tr>\n",
       "      <th>5</th>\n",
       "      <td>amiga to emocaopositivo</td>\n",
       "      <td>1</td>\n",
       "    </tr>\n",
       "    <tr>\n",
       "      <th>6</th>\n",
       "      <td>bravo jairo emocaopositivo</td>\n",
       "      <td>1</td>\n",
       "    </tr>\n",
       "    <tr>\n",
       "      <th>7</th>\n",
       "      <td>socorro ksoaksosks achar to em o caixinha so...</td>\n",
       "      <td>1</td>\n",
       "    </tr>\n",
       "    <tr>\n",
       "      <th>8</th>\n",
       "      <td>gostar fazenda emocaopositivo morro medo gal...</td>\n",
       "      <td>1</td>\n",
       "    </tr>\n",
       "    <tr>\n",
       "      <th>9</th>\n",
       "      <td>amanha venom emocaopositivo</td>\n",
       "      <td>1</td>\n",
       "    </tr>\n",
       "  </tbody>\n",
       "</table>\n",
       "</div>"
      ],
      "text/plain": [
       "                                          tweet_text  sentiment\n",
       "0           pessoa certo vale azevedo emocaopositivo          1\n",
       "1    precisamente contrário emocaopositiva vir ch...          1\n",
       "2  video hoje ... pensar falar meta de o csgo pag...          1\n",
       "3  aaaaaaaa amei polaroids expressar to apaixonar...          1\n",
       "4  valorizar coração de o menininho vc diferente ...          1\n",
       "5                            amiga to emocaopositivo          1\n",
       "6                         bravo jairo emocaopositivo          1\n",
       "7    socorro ksoaksosks achar to em o caixinha so...          1\n",
       "8    gostar fazenda emocaopositivo morro medo gal...          1\n",
       "9                        amanha venom emocaopositivo          1"
      ]
     },
     "execution_count": 11,
     "metadata": {},
     "output_type": "execute_result"
    }
   ],
   "source": [
    "training_twitter_preprocessing.head(10)"
   ]
  },
  {
   "cell_type": "markdown",
   "id": "1b4c2cd7-95e7-4b80-ad72-0613f9169d40",
   "metadata": {},
   "source": [
    "#### Test base"
   ]
  },
  {
   "cell_type": "code",
   "execution_count": 12,
   "id": "411c1948-9add-4d69-b5f0-7f98f956597d",
   "metadata": {},
   "outputs": [],
   "source": [
    "test_twitter_preprocessing = test_twitter\n",
    "test_twitter_preprocessing['tweet_text'] = test_twitter_preprocessing['tweet_text'].apply(preprocessing_text)\n"
   ]
  },
  {
   "cell_type": "code",
   "execution_count": 13,
   "id": "3f586446-e2e9-4f88-9004-580cbbd88d7d",
   "metadata": {},
   "outputs": [
    {
     "data": {
      "text/html": [
       "<div>\n",
       "<style scoped>\n",
       "    .dataframe tbody tr th:only-of-type {\n",
       "        vertical-align: middle;\n",
       "    }\n",
       "\n",
       "    .dataframe tbody tr th {\n",
       "        vertical-align: top;\n",
       "    }\n",
       "\n",
       "    .dataframe thead th {\n",
       "        text-align: right;\n",
       "    }\n",
       "</style>\n",
       "<table border=\"1\" class=\"dataframe\">\n",
       "  <thead>\n",
       "    <tr style=\"text-align: right;\">\n",
       "      <th></th>\n",
       "      <th>tweet_text</th>\n",
       "      <th>sentiment</th>\n",
       "    </tr>\n",
       "  </thead>\n",
       "  <tbody>\n",
       "    <tr>\n",
       "      <th>0</th>\n",
       "      <td>emocaopositivo</td>\n",
       "      <td>1</td>\n",
       "    </tr>\n",
       "    <tr>\n",
       "      <th>1</th>\n",
       "      <td>pa puta parir emocaopositiva</td>\n",
       "      <td>1</td>\n",
       "    </tr>\n",
       "    <tr>\n",
       "      <th>2</th>\n",
       "      <td>querer desconto 14/08 ⭐ ⭐ ⭐ ⭐ ⭐ 🌐 confiro em o...</td>\n",
       "      <td>1</td>\n",
       "    </tr>\n",
       "    <tr>\n",
       "      <th>3</th>\n",
       "      <td>vcs ajudar galera por o amor butera emocaoposi...</td>\n",
       "      <td>1</td>\n",
       "    </tr>\n",
       "    <tr>\n",
       "      <th>4</th>\n",
       "      <td>casa de o zé morrer sono chegar casa fico sono...</td>\n",
       "      <td>1</td>\n",
       "    </tr>\n",
       "    <tr>\n",
       "      <th>5</th>\n",
       "      <td>precisar emocaopositivo</td>\n",
       "      <td>1</td>\n",
       "    </tr>\n",
       "    <tr>\n",
       "      <th>6</th>\n",
       "      <td>acaso adorar beijo abraço hahahahaha bue fof...</td>\n",
       "      <td>1</td>\n",
       "    </tr>\n",
       "    <tr>\n",
       "      <th>7</th>\n",
       "      <td>solteiro s sozinho emocaopositivo</td>\n",
       "      <td>1</td>\n",
       "    </tr>\n",
       "    <tr>\n",
       "      <th>8</th>\n",
       "      <td>lindeza cortador kit mário coleção ber cravol ...</td>\n",
       "      <td>1</td>\n",
       "    </tr>\n",
       "    <tr>\n",
       "      <th>9</th>\n",
       "      <td>claro emocaopositivo</td>\n",
       "      <td>1</td>\n",
       "    </tr>\n",
       "  </tbody>\n",
       "</table>\n",
       "</div>"
      ],
      "text/plain": [
       "                                          tweet_text  sentiment\n",
       "0                                     emocaopositivo          1\n",
       "1                       pa puta parir emocaopositiva          1\n",
       "2  querer desconto 14/08 ⭐ ⭐ ⭐ ⭐ ⭐ 🌐 confiro em o...          1\n",
       "3  vcs ajudar galera por o amor butera emocaoposi...          1\n",
       "4  casa de o zé morrer sono chegar casa fico sono...          1\n",
       "5                            precisar emocaopositivo          1\n",
       "6    acaso adorar beijo abraço hahahahaha bue fof...          1\n",
       "7                  solteiro s sozinho emocaopositivo          1\n",
       "8  lindeza cortador kit mário coleção ber cravol ...          1\n",
       "9                               claro emocaopositivo          1"
      ]
     },
     "execution_count": 13,
     "metadata": {},
     "output_type": "execute_result"
    }
   ],
   "source": [
    "test_twitter_preprocessing.head(10)"
   ]
  },
  {
   "cell_type": "markdown",
   "id": "084bd637-35df-4036-b79c-9c17a9e0a333",
   "metadata": {},
   "source": [
    "#### Final training base >>> X_twitter_training"
   ]
  },
  {
   "cell_type": "code",
   "execution_count": 14,
   "id": "b4b77497-8234-4291-83a3-193621a84b80",
   "metadata": {
    "scrolled": true
   },
   "outputs": [],
   "source": [
    "X_twitter_training = []\n",
    "for tweet_text, sentiment in zip(training_twitter_preprocessing['tweet_text'], training_twitter_preprocessing['sentiment']):\n",
    "    if sentiment == 1:\n",
    "        dic = ({'ALEGRIA': True, 'MEDO': False})        \n",
    "    elif sentiment == 0:\n",
    "        dic = ({'ALEGRIA': False, 'MEDO': True})\n",
    "    X_twitter_training.append([tweet_text, dic.copy()])    "
   ]
  },
  {
   "cell_type": "code",
   "execution_count": 15,
   "id": "d4b7ca40-d5f6-44bd-b8bf-9c4f4b5b59e0",
   "metadata": {},
   "outputs": [
    {
     "data": {
      "text/plain": [
       "[['  pessoa certo vale azevedo emocaopositivo',\n",
       "  {'ALEGRIA': True, 'MEDO': False}],\n",
       " ['  precisamente contrário emocaopositiva vir chuva vir disposição emocaopositivo',\n",
       "  {'ALEGRIA': True, 'MEDO': False}],\n",
       " ['video hoje ... pensar falar meta de o csgo pagina alguer sugestao querer falar de o cenario nacional emocaopositivo',\n",
       "  {'ALEGRIA': True, 'MEDO': False}],\n",
       " ['aaaaaaaa amei polaroids expressar to apaixonar vdd ✨ 💖 🎈r 🎉 🎊 esperar outro pessoa consigar ganhar emocaopositivo',\n",
       "  {'ALEGRIA': True, 'MEDO': False}],\n",
       " ['valorizar coração de o menininho vc diferente sorrir de isso ❤ ️ — valorizar mundo em o vida diferente emocaopositivo',\n",
       "  {'ALEGRIA': True, 'MEDO': False}],\n",
       " ['  amiga to emocaopositivo', {'ALEGRIA': True, 'MEDO': False}],\n",
       " ['  bravo jairo emocaopositivo', {'ALEGRIA': True, 'MEDO': False}],\n",
       " ['  socorro ksoaksosks achar to em o caixinha som emocaopositivo',\n",
       "  {'ALEGRIA': True, 'MEDO': False}],\n",
       " ['  gostar fazenda emocaopositivo morro medo galinho kkkkkkk',\n",
       "  {'ALEGRIA': True, 'MEDO': False}],\n",
       " ['amanha venom emocaopositivo', {'ALEGRIA': True, 'MEDO': False}]]"
      ]
     },
     "execution_count": 15,
     "metadata": {},
     "output_type": "execute_result"
    }
   ],
   "source": [
    "X_twitter_training[0:10]"
   ]
  },
  {
   "cell_type": "markdown",
   "id": "26670a80-2951-4e29-90fd-82c53752bf6f",
   "metadata": {},
   "source": [
    "### Creating Classifier"
   ]
  },
  {
   "cell_type": "code",
   "execution_count": 16,
   "id": "d0408eed-988d-4022-9b06-49d3769b553f",
   "metadata": {},
   "outputs": [],
   "source": [
    "model = spacy.blank('pt')\n",
    "textcat = model.add_pipe('textcat')\n",
    "textcat.add_label('ALEGRIA')\n",
    "textcat.add_label('MEDO')\n",
    "historic = []"
   ]
  },
  {
   "cell_type": "code",
   "execution_count": 17,
   "id": "48fb62f4-f6b1-4fdf-870b-869c77b73212",
   "metadata": {},
   "outputs": [
    {
     "name": "stdout",
     "output_type": "stream",
     "text": [
      "{'textcat': 1.879685697654736}\n",
      "{'textcat': 0.0553973978242802}\n",
      "{'textcat': 0.01680469924847171}\n",
      "{'textcat': 0.006625586214797494}\n",
      "{'textcat': 0.002311111308760685}\n",
      "{'textcat': 3.8189392213744064e-05}\n",
      "{'textcat': 1.9729560955892428e-09}\n",
      "{'textcat': 4.938052477229497e-10}\n",
      "{'textcat': 2.8584514219314166e-10}\n",
      "{'textcat': 1.973980936103751e-10}\n"
     ]
    }
   ],
   "source": [
    "model.begin_training()\n",
    "for period in range (10):\n",
    "    random.shuffle(X_twitter_training)\n",
    "    losses = {}\n",
    "    for batch in spacy.util.minibatch(X_twitter_training, 512):\n",
    "        texts = [model(texto) for texto, entities in batch]\n",
    "        annotations = [{'cats': entities} for texto, entities in batch]\n",
    "        examples = [Example.from_dict(doc, annotation) for doc, annotation in zip(texts, annotations)]\n",
    "        model.update(examples, losses=losses)\n",
    "    if period % 1 == 0:\n",
    "        print(losses)\n",
    "        historic.append(losses)\n",
    "        "
   ]
  },
  {
   "cell_type": "code",
   "execution_count": 18,
   "id": "2b888003-1471-42b0-b65b-e6f7640ebc39",
   "metadata": {},
   "outputs": [],
   "source": [
    "historic_loss = []\n",
    "for i in historic:\n",
    "    historic_loss.append(i.get('textcat'))\n"
   ]
  },
  {
   "cell_type": "code",
   "execution_count": 19,
   "id": "12484c83-dcdf-42fe-b0bd-0e6864caa44c",
   "metadata": {},
   "outputs": [
    {
     "data": {
      "text/plain": [
       "array([1.87968570e+00, 5.53973978e-02, 1.68046992e-02, 6.62558621e-03,\n",
       "       2.31111131e-03, 3.81893922e-05, 1.97295610e-09, 4.93805248e-10,\n",
       "       2.85845142e-10, 1.97398094e-10])"
      ]
     },
     "execution_count": 19,
     "metadata": {},
     "output_type": "execute_result"
    }
   ],
   "source": [
    "historic_loss_array = np.array(historic_loss)\n",
    "historic_loss_array"
   ]
  },
  {
   "cell_type": "markdown",
   "id": "7c8f5cf7-4979-47ec-a237-3744452c228e",
   "metadata": {},
   "source": [
    "### Training chart"
   ]
  },
  {
   "cell_type": "code",
   "execution_count": 20,
   "id": "9c4ed3a8-683c-456a-b5f1-412c6c63a871",
   "metadata": {},
   "outputs": [
    {
     "data": {
      "image/png": "[encoded data removed]",
      "text/plain": [
       "<Figure size 640x480 with 1 Axes>"
      ]
     },
     "metadata": {},
     "output_type": "display_data"
    }
   ],
   "source": [
    "plt.plot(historic_loss_array)\n",
    "plt.title('Progression error')\n",
    "plt.xlabel('Period')\n",
    "plt.ylabel('Errors')\n",
    "plt.show()"
   ]
  },
  {
   "cell_type": "markdown",
   "id": "fdb5fd58-269c-4aca-904f-1ae21ac22051",
   "metadata": {},
   "source": [
    "#### Saving Model Training"
   ]
  },
  {
   "cell_type": "code",
   "execution_count": 21,
   "id": "dedf9237-521f-43f4-9639-9ee2ac754138",
   "metadata": {},
   "outputs": [],
   "source": [
    "model.to_disk('Model_Training')"
   ]
  },
  {
   "cell_type": "markdown",
   "id": "9e97b530-f836-4fec-9eb5-c2eb3410b7cf",
   "metadata": {},
   "source": [
    "### Testing Model"
   ]
  },
  {
   "cell_type": "code",
   "execution_count": 22,
   "id": "2e61b76b-ff18-47ca-87b2-dc7b7756d6f5",
   "metadata": {},
   "outputs": [],
   "source": [
    "model_training = spacy.load('Model_Training')"
   ]
  },
  {
   "cell_type": "code",
   "execution_count": 23,
   "id": "0076510d-2d34-4ceb-aa19-53cbc4065e65",
   "metadata": {},
   "outputs": [
    {
     "data": {
      "text/plain": [
       "{'ALEGRIA': 0.9999452829360962, 'MEDO': 5.472845077747479e-05}"
      ]
     },
     "execution_count": 23,
     "metadata": {},
     "output_type": "execute_result"
    }
   ],
   "source": [
    "positive_text = 'Eu gosto muito de você'\n",
    "positive_text_pre = preprocessing_text(positive_text)\n",
    "model_training(positive_text_pre).cats"
   ]
  },
  {
   "cell_type": "code",
   "execution_count": 24,
   "id": "5b5dfcb5-c7c3-49eb-8c6b-f457b56b34de",
   "metadata": {},
   "outputs": [
    {
     "data": {
      "text/plain": [
       "{'ALEGRIA': 0.0004514330648817122, 'MEDO': 0.9995484948158264}"
      ]
     },
     "execution_count": 24,
     "metadata": {},
     "output_type": "execute_result"
    }
   ],
   "source": [
    "negative_text = 'estou assutado com tudo isso'\n",
    "negative_text_pre = preprocessing_text(negative_text)\n",
    "model_training(negative_text_pre).cats"
   ]
  },
  {
   "cell_type": "markdown",
   "id": "7c3815e5-6de5-4afa-933d-b5b229ac1204",
   "metadata": {},
   "source": [
    "#### Testing training_base"
   ]
  },
  {
   "cell_type": "code",
   "execution_count": 45,
   "id": "9892d4fb-81a5-44fd-b716-91b63acbf4c6",
   "metadata": {},
   "outputs": [],
   "source": [
    "predictions = []\n",
    "for text in test_twitter_preprocessing['tweet_text']:\n",
    "    predction = model_training(text)\n",
    "    predictions.append(predction.cats)"
   ]
  },
  {
   "cell_type": "code",
   "execution_count": 47,
   "id": "3d2fe455-d7be-4fb9-876e-03391bc74cae",
   "metadata": {},
   "outputs": [
    {
     "data": {
      "text/plain": [
       "(5000,)"
      ]
     },
     "execution_count": 47,
     "metadata": {},
     "output_type": "execute_result"
    }
   ],
   "source": [
    "final_predictions = []\n",
    "for predction in predictions:\n",
    "  if predction['ALEGRIA'] > predction['MEDO']:\n",
    "    final_predictions.append(1)\n",
    "  else:\n",
    "    final_predictions.append(0)\n",
    "\n",
    "final_predictions = np.array(final_predictions)\n",
    "final_predictions.shape"
   ]
  },
  {
   "cell_type": "code",
   "execution_count": 48,
   "id": "16783653-f6a4-46c0-9b6a-ed906b8e8e13",
   "metadata": {},
   "outputs": [
    {
     "data": {
      "text/plain": [
       "(5000,)"
      ]
     },
     "execution_count": 48,
     "metadata": {},
     "output_type": "execute_result"
    }
   ],
   "source": [
    "real_answers = test_twitter_preprocessing['sentiment'].values\n",
    "real_answers.shape"
   ]
  },
  {
   "cell_type": "markdown",
   "id": "cc89986e-4b06-4f04-8158-ab954b56fa33",
   "metadata": {},
   "source": [
    "#### Accuracy Score"
   ]
  },
  {
   "cell_type": "code",
   "execution_count": 49,
   "id": "cbc1bf59-6a75-4802-90ea-ae45d54bab04",
   "metadata": {},
   "outputs": [
    {
     "data": {
      "text/plain": [
       "0.997"
      ]
     },
     "execution_count": 49,
     "metadata": {},
     "output_type": "execute_result"
    }
   ],
   "source": [
    "accuracy_score(real_answers,final_predictions)"
   ]
  },
  {
   "cell_type": "markdown",
   "id": "2f31cbe5-6068-4443-a0d1-ef332ea02560",
   "metadata": {},
   "source": [
    "#### Accuracy 99.70 %"
   ]
  },
  {
   "cell_type": "markdown",
   "id": "3e05ef36-9700-4ace-a5e9-c6e32c16c0a7",
   "metadata": {},
   "source": [
    "#### Confusion Matrix"
   ]
  },
  {
   "cell_type": "code",
   "execution_count": 55,
   "id": "4d99f7de-44c0-4df6-96ac-5d146f445160",
   "metadata": {},
   "outputs": [
    {
     "data": {
      "text/plain": [
       "array([[2493,    7],\n",
       "       [   8, 2492]], dtype=int64)"
      ]
     },
     "execution_count": 55,
     "metadata": {},
     "output_type": "execute_result"
    }
   ],
   "source": [
    "cm = confusion_matrix(real_answers,final_predictions)\n",
    "cm"
   ]
  }
 ],
 "metadata": {
  "kernelspec": {
   "display_name": "Python 3 (ipykernel)",
   "language": "python",
   "name": "python3"
  },
  "language_info": {
   "codemirror_mode": {
    "name": "ipython",
    "version": 3
   },
   "file_extension": ".py",
   "mimetype": "text/x-python",
   "name": "python",
   "nbconvert_exporter": "python",
   "pygments_lexer": "ipython3",
   "version": "3.11.5"
  }
 },
 "nbformat": 4,
 "nbformat_minor": 5
}
