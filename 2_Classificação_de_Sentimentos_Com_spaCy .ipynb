{
 "cells": [
  {
   "cell_type": "markdown",
   "id": "24cd6e8b",
   "metadata": {},
   "source": [
    "### Imports: "
   ]
  },
  {
   "cell_type": "code",
   "execution_count": 90,
   "id": "638744b9",
   "metadata": {},
   "outputs": [],
   "source": [
    "import pandas as pd \n",
    "import spacy\n",
    "import string\n",
    "import seaborn as sns\n",
    "import matplotlib.pyplot as plt\n",
    "from spacy.lang.pt.stop_words import STOP_WORDS\n",
    "from spacy.training import Example\n",
    "import random\n",
    "import numpy as np\n",
    "from sklearn.metrics import accuracy_score, confusion_matrix"
   ]
  },
  {
   "cell_type": "markdown",
   "id": "fb6ff33f-b429-41cc-bd00-0e4070f6a759",
   "metadata": {},
   "source": [
    "### LoadingSTOP_WORDS"
   ]
  },
  {
   "cell_type": "code",
   "execution_count": 21,
   "id": "8d30a499-1b89-41c4-8e20-96064d96678c",
   "metadata": {},
   "outputs": [
    {
     "data": {
      "text/plain": [
       "<spacy.lang.pt.Portuguese at 0x25a06ae0710>"
      ]
     },
     "execution_count": 21,
     "metadata": {},
     "output_type": "execute_result"
    }
   ],
   "source": [
    "training_base = pd.read_csv('base_treinamento.txt', encoding = 'utf-8')\n",
    "pln = spacy.load('pt_core_news_sm')\n",
    "pln"
   ]
  },
  {
   "cell_type": "code",
   "execution_count": 23,
   "id": "02c594a7-5c81-43de-a1de-0f19a8c9c785",
   "metadata": {},
   "outputs": [
    {
     "data": {
      "text/html": [
       "<div>\n",
       "<style scoped>\n",
       "    .dataframe tbody tr th:only-of-type {\n",
       "        vertical-align: middle;\n",
       "    }\n",
       "\n",
       "    .dataframe tbody tr th {\n",
       "        vertical-align: top;\n",
       "    }\n",
       "\n",
       "    .dataframe thead th {\n",
       "        text-align: right;\n",
       "    }\n",
       "</style>\n",
       "<table border=\"1\" class=\"dataframe\">\n",
       "  <thead>\n",
       "    <tr style=\"text-align: right;\">\n",
       "      <th></th>\n",
       "      <th>texto</th>\n",
       "      <th>emocao</th>\n",
       "    </tr>\n",
       "  </thead>\n",
       "  <tbody>\n",
       "    <tr>\n",
       "      <th>0</th>\n",
       "      <td>este trabalho é agradável</td>\n",
       "      <td>alegria</td>\n",
       "    </tr>\n",
       "    <tr>\n",
       "      <th>1</th>\n",
       "      <td>gosto de ficar no seu aconchego</td>\n",
       "      <td>alegria</td>\n",
       "    </tr>\n",
       "    <tr>\n",
       "      <th>2</th>\n",
       "      <td>fiz a adesão ao curso hoje</td>\n",
       "      <td>alegria</td>\n",
       "    </tr>\n",
       "    <tr>\n",
       "      <th>3</th>\n",
       "      <td>eu sou admirada por muitos</td>\n",
       "      <td>alegria</td>\n",
       "    </tr>\n",
       "    <tr>\n",
       "      <th>4</th>\n",
       "      <td>adoro como você</td>\n",
       "      <td>alegria</td>\n",
       "    </tr>\n",
       "  </tbody>\n",
       "</table>\n",
       "</div>"
      ],
      "text/plain": [
       "                             texto   emocao\n",
       "0        este trabalho é agradável  alegria\n",
       "1  gosto de ficar no seu aconchego  alegria\n",
       "2       fiz a adesão ao curso hoje  alegria\n",
       "3       eu sou admirada por muitos  alegria\n",
       "4                  adoro como você  alegria"
      ]
     },
     "execution_count": 23,
     "metadata": {},
     "output_type": "execute_result"
    }
   ],
   "source": [
    "training_base.head()"
   ]
  },
  {
   "cell_type": "code",
   "execution_count": 25,
   "id": "4ebc45c2-8841-4ef4-bd53-b7193e6128b3",
   "metadata": {},
   "outputs": [
    {
     "name": "stderr",
     "output_type": "stream",
     "text": [
      "C:\\Users\\otnie\\AppData\\Local\\Programs\\Python\\Python311\\Lib\\site-packages\\seaborn\\_oldcore.py:1498: FutureWarning: is_categorical_dtype is deprecated and will be removed in a future version. Use isinstance(dtype, CategoricalDtype) instead\n",
      "  if pd.api.types.is_categorical_dtype(vector):\n",
      "C:\\Users\\otnie\\AppData\\Local\\Programs\\Python\\Python311\\Lib\\site-packages\\seaborn\\_oldcore.py:1498: FutureWarning: is_categorical_dtype is deprecated and will be removed in a future version. Use isinstance(dtype, CategoricalDtype) instead\n",
      "  if pd.api.types.is_categorical_dtype(vector):\n",
      "C:\\Users\\otnie\\AppData\\Local\\Programs\\Python\\Python311\\Lib\\site-packages\\seaborn\\_oldcore.py:1498: FutureWarning: is_categorical_dtype is deprecated and will be removed in a future version. Use isinstance(dtype, CategoricalDtype) instead\n",
      "  if pd.api.types.is_categorical_dtype(vector):\n"
     ]
    },
    {
     "data": {
      "image/png": "[encoded data removed]",
      "text/plain": [
       "<Figure size 640x480 with 1 Axes>"
      ]
     },
     "metadata": {},
     "output_type": "display_data"
    }
   ],
   "source": [
    "sns.countplot(x='emocao', data=training_base, label='counting')\n",
    "plt.show()"
   ]
  },
  {
   "cell_type": "markdown",
   "id": "479e90b7-86af-4f95-ac23-e27433c87486",
   "metadata": {},
   "source": [
    "#### Preprocessing >>> training_base"
   ]
  },
  {
   "cell_type": "code",
   "execution_count": 26,
   "id": "26d7460d-520c-4a8e-989a-b6a5ba05c285",
   "metadata": {},
   "outputs": [
    {
     "data": {
      "text/plain": [
       "'!\"#$%&\\'()*+,-./:;<=>?@[\\\\]^_`{|}~'"
      ]
     },
     "execution_count": 26,
     "metadata": {},
     "output_type": "execute_result"
    }
   ],
   "source": [
    "punctuation = string.punctuation\n",
    "punctuation"
   ]
  },
  {
   "cell_type": "code",
   "execution_count": 27,
   "id": "8be65912-e5cf-4231-9eb4-7510a59c1d86",
   "metadata": {},
   "outputs": [],
   "source": [
    "stop_word = STOP_WORDS"
   ]
  },
  {
   "cell_type": "markdown",
   "id": "013271e2-ff4a-48a0-bac1-e654f9c3e464",
   "metadata": {},
   "source": [
    "#### Fuction preprocessing text of the traing_base"
   ]
  },
  {
   "cell_type": "code",
   "execution_count": 34,
   "id": "2f4b0809-02e3-4526-9efb-8221f6b9a79b",
   "metadata": {},
   "outputs": [],
   "source": [
    "def preprocessing_text(text):\n",
    "    text_lower = text.lower()\n",
    "    doc = pln(text_lower)\n",
    "    text_list = []\n",
    "    for token in doc:\n",
    "        text_list.append(token.lemma_)\n",
    "    text_list = [word for word in text_list if word not in stop_word and word not in punctuation]\n",
    "    text_list = ' '.join([str(element) for element in text_list if not element.isdigit()])\n",
    "    return text_list"
   ]
  },
  {
   "cell_type": "code",
   "execution_count": 38,
   "id": "840f3865-0bdf-4c53-a16a-e80b2961c64f",
   "metadata": {},
   "outputs": [
    {
     "data": {
      "text/html": [
       "<div>\n",
       "<style scoped>\n",
       "    .dataframe tbody tr th:only-of-type {\n",
       "        vertical-align: middle;\n",
       "    }\n",
       "\n",
       "    .dataframe tbody tr th {\n",
       "        vertical-align: top;\n",
       "    }\n",
       "\n",
       "    .dataframe thead th {\n",
       "        text-align: right;\n",
       "    }\n",
       "</style>\n",
       "<table border=\"1\" class=\"dataframe\">\n",
       "  <thead>\n",
       "    <tr style=\"text-align: right;\">\n",
       "      <th></th>\n",
       "      <th>texto</th>\n",
       "      <th>emocao</th>\n",
       "    </tr>\n",
       "  </thead>\n",
       "  <tbody>\n",
       "    <tr>\n",
       "      <th>0</th>\n",
       "      <td>trabalho agradável</td>\n",
       "      <td>alegria</td>\n",
       "    </tr>\n",
       "    <tr>\n",
       "      <th>1</th>\n",
       "      <td>gostar ficar aconchego</td>\n",
       "      <td>alegria</td>\n",
       "    </tr>\n",
       "    <tr>\n",
       "      <th>2</th>\n",
       "      <td>fiz adesão curso hoje</td>\n",
       "      <td>alegria</td>\n",
       "    </tr>\n",
       "    <tr>\n",
       "      <th>3</th>\n",
       "      <td>admirar</td>\n",
       "      <td>alegria</td>\n",
       "    </tr>\n",
       "    <tr>\n",
       "      <th>4</th>\n",
       "      <td>adorar</td>\n",
       "      <td>alegria</td>\n",
       "    </tr>\n",
       "  </tbody>\n",
       "</table>\n",
       "</div>"
      ],
      "text/plain": [
       "                    texto   emocao\n",
       "0      trabalho agradável  alegria\n",
       "1  gostar ficar aconchego  alegria\n",
       "2   fiz adesão curso hoje  alegria\n",
       "3                 admirar  alegria\n",
       "4                  adorar  alegria"
      ]
     },
     "execution_count": 38,
     "metadata": {},
     "output_type": "execute_result"
    }
   ],
   "source": [
    "training_base_preprocessing = training_base\n",
    "training_base_preprocessing['texto'] = training_base['texto'].apply(preprocessing_text) \n",
    "training_base_preprocessing.head()"
   ]
  },
  {
   "cell_type": "code",
   "execution_count": 41,
   "id": "f79aa369-d6b8-4d4a-a095-a33cd8fc1466",
   "metadata": {},
   "outputs": [],
   "source": [
    "final_base_training = []\n",
    "for texto, emocao in zip(training_base_preprocessing['texto'], training_base_preprocessing['emocao']):\n",
    "    if emocao == 'alegria':\n",
    "        dic = ({'ALEGRIA': True, 'MEDO': False})\n",
    "    elif emocao == 'medo':\n",
    "        dic = ({'ALEGRIA': False, 'MEDO': True})\n",
    "    final_base_training.append([texto, dic.copy()])"
   ]
  },
  {
   "cell_type": "code",
   "execution_count": 46,
   "id": "49620b0c-a3b1-4197-a414-26dc52a7e07f",
   "metadata": {},
   "outputs": [
    {
     "data": {
      "text/plain": [
       "196"
      ]
     },
     "execution_count": 46,
     "metadata": {},
     "output_type": "execute_result"
    }
   ],
   "source": [
    "len(final_base_training)"
   ]
  },
  {
   "cell_type": "markdown",
   "id": "31dd3c77-dfc9-4439-a60d-67b727d7fba5",
   "metadata": {},
   "source": [
    "### Classifier creation"
   ]
  },
  {
   "cell_type": "code",
   "execution_count": 56,
   "id": "43611502-14c0-4df2-b761-e396b00a3131",
   "metadata": {},
   "outputs": [],
   "source": [
    "model = spacy.blank('pt')\n",
    "textcat = model.add_pipe('textcat')\n",
    "textcat.add_label('ALEGRIA')\n",
    "textcat.add_label('MEDO')\n",
    "historic = []"
   ]
  },
  {
   "cell_type": "code",
   "execution_count": 60,
   "id": "0f26ea17-0d15-4142-9c7d-14a1ef2e9a4a",
   "metadata": {},
   "outputs": [
    {
     "name": "stdout",
     "output_type": "stream",
     "text": [
      "{'textcat': 1.708801120519638}\n",
      "{'textcat': 2.3998926760790407e-11}\n",
      "{'textcat': 3.016182870954273e-12}\n",
      "{'textcat': 8.145080272682799e-13}\n",
      "{'textcat': 3.0717121453024705e-13}\n",
      "{'textcat': 1.2668594150203613e-13}\n",
      "{'textcat': 5.5967245439069325e-14}\n",
      "{'textcat': 2.9322569627390424e-14}\n",
      "{'textcat': 1.5334139623148532e-14}\n",
      "{'textcat': 8.288411147670013e-15}\n"
     ]
    }
   ],
   "source": [
    "model.begin_training()\n",
    "for period in range (1000):\n",
    "    random.shuffle(final_base_training)\n",
    "    losses = {}\n",
    "    for batch in spacy.util.minibatch(final_base_training, 30):\n",
    "        texts = [model(texto) for texto, entities in batch]\n",
    "        annotations = [{'cats': entities} for texto, entities in batch]\n",
    "        examples = [Example.from_dict(doc, annotation) for doc, annotation in zip(texts, annotations)]\n",
    "        model.update(examples, losses=losses)\n",
    "    if period % 100 == 0:\n",
    "        print(losses)\n",
    "        historic.append(losses)\n",
    "    "
   ]
  },
  {
   "cell_type": "code",
   "execution_count": 61,
   "id": "78c5e3de-72a4-4157-be68-263ef9f841cd",
   "metadata": {},
   "outputs": [],
   "source": [
    "historic_loss = []\n",
    "for i in historic:\n",
    "    historic_loss.append(i.get('textcat'))"
   ]
  },
  {
   "cell_type": "code",
   "execution_count": 64,
   "id": "1792d4d3-d0e4-4c3f-9702-ac0b946cd59c",
   "metadata": {},
   "outputs": [
    {
     "data": {
      "text/plain": [
       "array([1.70880112e+00, 2.39989268e-11, 3.01618287e-12, 8.14508027e-13,\n",
       "       3.07171215e-13, 1.26685942e-13, 5.59672454e-14, 2.93225696e-14,\n",
       "       1.53341396e-14, 8.28841115e-15])"
      ]
     },
     "execution_count": 64,
     "metadata": {},
     "output_type": "execute_result"
    }
   ],
   "source": [
    "historic_loss_array = np.array(historic_loss)\n",
    "historic_loss_array"
   ]
  },
  {
   "cell_type": "markdown",
   "id": "82235123-e7cb-4d93-93b2-505bcc84b44b",
   "metadata": {},
   "source": [
    "### training chart"
   ]
  },
  {
   "cell_type": "code",
   "execution_count": 65,
   "id": "3286b232-f5d4-49df-8cec-85132df20804",
   "metadata": {},
   "outputs": [
    {
     "data": {
      "image/png": "[encoded data removed]",
      "text/plain": [
       "<Figure size 640x480 with 1 Axes>"
      ]
     },
     "metadata": {},
     "output_type": "display_data"
    }
   ],
   "source": [
    "plt.plot(historic_loss_array)\n",
    "plt.title('Progression error')\n",
    "plt.xlabel('Period')\n",
    "plt.ylabel('Errors')\n",
    "plt.show()"
   ]
  },
  {
   "cell_type": "markdown",
   "id": "4bebbf47-0423-4f33-bbd3-5ec71deb87cc",
   "metadata": {},
   "source": [
    "#### Salving Model training"
   ]
  },
  {
   "cell_type": "code",
   "execution_count": 69,
   "id": "a45ca5e3-1388-47a8-a2aa-5a48001c46ee",
   "metadata": {},
   "outputs": [],
   "source": [
    "model.to_disk('model_training')"
   ]
  },
  {
   "cell_type": "markdown",
   "id": "a232339e-ba55-40e9-83dc-11c857e2ca3f",
   "metadata": {},
   "source": [
    "### testing phrases"
   ]
  },
  {
   "cell_type": "code",
   "execution_count": 70,
   "id": "1d006d5f-0b2e-4304-b999-87c372ed95a9",
   "metadata": {},
   "outputs": [],
   "source": [
    "model_training =  spacy.load('model_training')"
   ]
  },
  {
   "cell_type": "markdown",
   "id": "7f4e1fce-a86c-4794-8b70-1222c4702921",
   "metadata": {},
   "source": [
    "#### Phrases"
   ]
  },
  {
   "cell_type": "code",
   "execution_count": 71,
   "id": "ad26ca09-9266-4d71-933d-bb8de159402e",
   "metadata": {},
   "outputs": [],
   "source": [
    "positive_text = 'estou muito animado hoje que dia lindo'\n",
    "negative_text = 'estou com medo dele'"
   ]
  },
  {
   "cell_type": "markdown",
   "id": "353f5512-fc2c-4482-bd36-149a19b5dc1d",
   "metadata": {},
   "source": [
    "### prevision test"
   ]
  },
  {
   "cell_type": "code",
   "execution_count": 76,
   "id": "e1b412c7-146a-4f0c-8a66-ae0939683bc0",
   "metadata": {},
   "outputs": [
    {
     "data": {
      "text/plain": [
       "{'ALEGRIA': 1.0, 'MEDO': 2.428527068332187e-08}"
      ]
     },
     "execution_count": 76,
     "metadata": {},
     "output_type": "execute_result"
    }
   ],
   "source": [
    "prevision_test = model_training(preprocessing_text(positive_text))\n",
    "prevision_test.cats"
   ]
  },
  {
   "cell_type": "code",
   "execution_count": 78,
   "id": "d77bb8b7-97bf-446f-b729-f6155870a88b",
   "metadata": {},
   "outputs": [
    {
     "data": {
      "text/plain": [
       "{'ALEGRIA': 0.0015335476491600275, 'MEDO': 0.9984664916992188}"
      ]
     },
     "execution_count": 78,
     "metadata": {},
     "output_type": "execute_result"
    }
   ],
   "source": [
    "prevision_test = model_training(preprocessing_text(negative_text))\n",
    "prevision_test.cats"
   ]
  },
  {
   "cell_type": "markdown",
   "id": "4557f6df-0078-4705-a580-da6dffed1806",
   "metadata": {},
   "source": [
    "#### testing training_base"
   ]
  },
  {
   "cell_type": "code",
   "execution_count": null,
   "id": "aec5dcb8-985d-42f9-af28-10eab84794d9",
   "metadata": {},
   "outputs": [],
   "source": []
  },
  {
   "cell_type": "code",
   "execution_count": 92,
   "id": "8cd0c393-f2e4-479d-a8c7-03e67e25f590",
   "metadata": {},
   "outputs": [],
   "source": [
    "predictions = []\n",
    "for text in training_base_preprocessing['texto']:\n",
    "    predction = model_training(text)\n",
    "    predictions.append(predction.cats)"
   ]
  },
  {
   "cell_type": "code",
   "execution_count": 94,
   "id": "f3e472ed-9f4f-4b2a-b370-31b61e2e5637",
   "metadata": {},
   "outputs": [
    {
     "data": {
      "text/plain": [
       "[{'ALEGRIA': 1.0, 'MEDO': 7.48596740152152e-09},\n",
       " {'ALEGRIA': 1.0, 'MEDO': 3.385092028906911e-08},\n",
       " {'ALEGRIA': 1.0, 'MEDO': 2.976610291582915e-09},\n",
       " {'ALEGRIA': 1.0, 'MEDO': 2.0990150062516477e-08},\n",
       " {'ALEGRIA': 1.0, 'MEDO': 6.9211965048054935e-09},\n",
       " {'ALEGRIA': 1.0, 'MEDO': 1.311940067694195e-08},\n",
       " {'ALEGRIA': 1.0, 'MEDO': 2.2797589593892553e-08},\n",
       " {'ALEGRIA': 1.0, 'MEDO': 1.4355735267201908e-08},\n",
       " {'ALEGRIA': 1.0, 'MEDO': 1.0910397030272634e-08},\n",
       " {'ALEGRIA': 1.0, 'MEDO': 1.3719570368664336e-08},\n",
       " {'ALEGRIA': 1.0, 'MEDO': 9.822341162646353e-09},\n",
       " {'ALEGRIA': 1.0, 'MEDO': 2.5891754518170274e-08},\n",
       " {'ALEGRIA': 1.0, 'MEDO': 1.0151774976208117e-09},\n",
       " {'ALEGRIA': 1.0, 'MEDO': 6.762672644100576e-09},\n",
       " {'ALEGRIA': 1.0, 'MEDO': 3.878081855646087e-08},\n",
       " {'ALEGRIA': 1.0, 'MEDO': 1.2575289254357358e-08},\n",
       " {'ALEGRIA': 1.0, 'MEDO': 1.693966211746556e-08},\n",
       " {'ALEGRIA': 1.0, 'MEDO': 2.225274409184408e-09},\n",
       " {'ALEGRIA': 1.0, 'MEDO': 9.53455092655986e-09},\n",
       " {'ALEGRIA': 1.0, 'MEDO': 3.4200397180939035e-08},\n",
       " {'ALEGRIA': 1.0, 'MEDO': 3.6430652272656516e-08},\n",
       " {'ALEGRIA': 1.0, 'MEDO': 2.7488184173307673e-08},\n",
       " {'ALEGRIA': 1.0, 'MEDO': 3.836995166039969e-09},\n",
       " {'ALEGRIA': 1.0, 'MEDO': 2.6085456017455044e-09},\n",
       " {'ALEGRIA': 1.0, 'MEDO': 7.741737917399405e-09},\n",
       " {'ALEGRIA': 1.0, 'MEDO': 9.098851450062284e-09},\n",
       " {'ALEGRIA': 1.0, 'MEDO': 1.895098122872696e-08},\n",
       " {'ALEGRIA': 1.0, 'MEDO': 1.0148140106025494e-08},\n",
       " {'ALEGRIA': 1.0, 'MEDO': 4.257769248283694e-08},\n",
       " {'ALEGRIA': 1.0, 'MEDO': 2.6350690518484043e-09},\n",
       " {'ALEGRIA': 1.0, 'MEDO': 1.5268488695596716e-08},\n",
       " {'ALEGRIA': 1.0, 'MEDO': 1.2133900995081603e-08},\n",
       " {'ALEGRIA': 1.0, 'MEDO': 4.144852283616274e-08},\n",
       " {'ALEGRIA': 1.0, 'MEDO': 2.140287591601009e-08},\n",
       " {'ALEGRIA': 1.0, 'MEDO': 5.347204456995769e-09},\n",
       " {'ALEGRIA': 1.0, 'MEDO': 2.212452088201644e-08},\n",
       " {'ALEGRIA': 1.0, 'MEDO': 1.1119858811525773e-08},\n",
       " {'ALEGRIA': 1.0, 'MEDO': 2.0307714621026207e-08},\n",
       " {'ALEGRIA': 1.0, 'MEDO': 1.1202371474894335e-08},\n",
       " {'ALEGRIA': 1.0, 'MEDO': 1.4664585101797911e-08},\n",
       " {'ALEGRIA': 1.0, 'MEDO': 1.963821105732677e-08},\n",
       " {'ALEGRIA': 1.0, 'MEDO': 2.2474301530905905e-08},\n",
       " {'ALEGRIA': 1.0, 'MEDO': 1.803568494551655e-08},\n",
       " {'ALEGRIA': 1.0, 'MEDO': 2.590701875249124e-08},\n",
       " {'ALEGRIA': 1.0, 'MEDO': 1.814547978540304e-08},\n",
       " {'ALEGRIA': 1.0, 'MEDO': 2.8617552771947885e-08},\n",
       " {'ALEGRIA': 1.0, 'MEDO': 2.9541405766053686e-08},\n",
       " {'ALEGRIA': 1.0, 'MEDO': 2.3611249844179838e-08},\n",
       " {'ALEGRIA': 1.0, 'MEDO': 2.845834323750296e-08},\n",
       " {'ALEGRIA': 1.0, 'MEDO': 1.4338686682435764e-08},\n",
       " {'ALEGRIA': 1.0, 'MEDO': 1.901122281822154e-08},\n",
       " {'ALEGRIA': 1.0, 'MEDO': 1.2315606312540694e-08},\n",
       " {'ALEGRIA': 1.0, 'MEDO': 2.4855820512925675e-08},\n",
       " {'ALEGRIA': 1.0, 'MEDO': 2.1473615774425525e-08},\n",
       " {'ALEGRIA': 1.0, 'MEDO': 1.0548452777925377e-08},\n",
       " {'ALEGRIA': 1.0, 'MEDO': 4.3800909566016344e-08},\n",
       " {'ALEGRIA': 1.0, 'MEDO': 2.6180325463087684e-08},\n",
       " {'ALEGRIA': 1.0, 'MEDO': 5.3414176193200547e-08},\n",
       " {'ALEGRIA': 1.0, 'MEDO': 2.6535097674695862e-08},\n",
       " {'ALEGRIA': 1.0, 'MEDO': 1.6311917150346744e-08},\n",
       " {'ALEGRIA': 1.0, 'MEDO': 1.3407022159128701e-08},\n",
       " {'ALEGRIA': 1.0, 'MEDO': 2.688652500637545e-08},\n",
       " {'ALEGRIA': 1.0, 'MEDO': 2.5196142949823752e-09},\n",
       " {'ALEGRIA': 1.0, 'MEDO': 2.7953923620316345e-09},\n",
       " {'ALEGRIA': 1.0, 'MEDO': 1.5966424626867592e-08},\n",
       " {'ALEGRIA': 1.0, 'MEDO': 8.374808402322742e-09},\n",
       " {'ALEGRIA': 1.0, 'MEDO': 1.2921325343029366e-08},\n",
       " {'ALEGRIA': 1.0, 'MEDO': 2.2501110308326133e-08},\n",
       " {'ALEGRIA': 1.0, 'MEDO': 2.0577685333478257e-08},\n",
       " {'ALEGRIA': 1.0, 'MEDO': 2.969369194971705e-09},\n",
       " {'ALEGRIA': 1.0, 'MEDO': 1.975443586488268e-09},\n",
       " {'ALEGRIA': 1.0, 'MEDO': 7.585659211883922e-09},\n",
       " {'ALEGRIA': 1.0, 'MEDO': 7.538091928438462e-09},\n",
       " {'ALEGRIA': 1.0, 'MEDO': 7.1679173707650534e-09},\n",
       " {'ALEGRIA': 1.0, 'MEDO': 3.217858690618414e-08},\n",
       " {'ALEGRIA': 1.0, 'MEDO': 1.7286357234524985e-08},\n",
       " {'ALEGRIA': 1.0, 'MEDO': 1.3764887896172695e-08},\n",
       " {'ALEGRIA': 1.0, 'MEDO': 1.4280087334839209e-08},\n",
       " {'ALEGRIA': 1.0, 'MEDO': 1.2542782812374753e-08},\n",
       " {'ALEGRIA': 1.0, 'MEDO': 1.382390291126967e-08},\n",
       " {'ALEGRIA': 1.0, 'MEDO': 3.072716836527434e-08},\n",
       " {'ALEGRIA': 1.0, 'MEDO': 1.2388050585343535e-08},\n",
       " {'ALEGRIA': 1.0, 'MEDO': 7.414207914280269e-09},\n",
       " {'ALEGRIA': 1.0, 'MEDO': 3.223246025640947e-08},\n",
       " {'ALEGRIA': 1.0, 'MEDO': 2.8844755917134535e-08},\n",
       " {'ALEGRIA': 1.0, 'MEDO': 2.3814415328615723e-08},\n",
       " {'ALEGRIA': 1.0, 'MEDO': 7.38197902805382e-09},\n",
       " {'ALEGRIA': 0.9999998807907104, 'MEDO': 7.604191409882333e-08},\n",
       " {'ALEGRIA': 1.0, 'MEDO': 6.5530318948958666e-09},\n",
       " {'ALEGRIA': 1.0, 'MEDO': 8.477811341833785e-09},\n",
       " {'ALEGRIA': 1.0, 'MEDO': 2.827179912401334e-08},\n",
       " {'ALEGRIA': 1.0, 'MEDO': 5.965352212200514e-09},\n",
       " {'ALEGRIA': 1.0, 'MEDO': 3.9585303923672654e-09},\n",
       " {'ALEGRIA': 1.0, 'MEDO': 1.9950132212898097e-08},\n",
       " {'ALEGRIA': 1.0, 'MEDO': 9.691405011835741e-09},\n",
       " {'ALEGRIA': 1.0, 'MEDO': 4.118790641882697e-08},\n",
       " {'ALEGRIA': 1.0, 'MEDO': 1.683469186275488e-08},\n",
       " {'ALEGRIA': 1.0, 'MEDO': 2.2800806576128707e-08},\n",
       " {'ALEGRIA': 1.0, 'MEDO': 3.1751085316500394e-08},\n",
       " {'ALEGRIA': 1.0, 'MEDO': 4.033359601862685e-08},\n",
       " {'ALEGRIA': 1.0, 'MEDO': 4.056443003719323e-08},\n",
       " {'ALEGRIA': 1.0, 'MEDO': 1.0270309935833666e-08},\n",
       " {'ALEGRIA': 1.0, 'MEDO': 4.955751808921605e-09},\n",
       " {'ALEGRIA': 1.0, 'MEDO': 2.259344178412448e-08},\n",
       " {'ALEGRIA': 1.0, 'MEDO': 7.270096524791825e-09},\n",
       " {'ALEGRIA': 1.0, 'MEDO': 1.4437755879725955e-08},\n",
       " {'ALEGRIA': 1.0, 'MEDO': 2.571595381084535e-08},\n",
       " {'ALEGRIA': 1.0, 'MEDO': 2.835766821362995e-08},\n",
       " {'ALEGRIA': 1.0, 'MEDO': 1.4858660080108166e-08},\n",
       " {'ALEGRIA': 1.0, 'MEDO': 2.415053046433968e-08},\n",
       " {'ALEGRIA': 1.0, 'MEDO': 1.980277275492881e-08},\n",
       " {'ALEGRIA': 1.0, 'MEDO': 8.261308082069263e-09},\n",
       " {'ALEGRIA': 5.245823686550466e-08, 'MEDO': 1.0},\n",
       " {'ALEGRIA': 7.773818033740554e-09, 'MEDO': 1.0},\n",
       " {'ALEGRIA': 6.3555369855805566e-09, 'MEDO': 1.0},\n",
       " {'ALEGRIA': 2.3830136086644416e-08, 'MEDO': 1.0},\n",
       " {'ALEGRIA': 2.8878940128151953e-08, 'MEDO': 1.0},\n",
       " {'ALEGRIA': 1.0543985240474285e-08, 'MEDO': 1.0},\n",
       " {'ALEGRIA': 7.484825204073786e-09, 'MEDO': 1.0},\n",
       " {'ALEGRIA': 2.8482235236992892e-08, 'MEDO': 1.0},\n",
       " {'ALEGRIA': 8.292755815375585e-09, 'MEDO': 1.0},\n",
       " {'ALEGRIA': 2.5226258415500524e-08, 'MEDO': 1.0},\n",
       " {'ALEGRIA': 9.12892428317491e-09, 'MEDO': 1.0},\n",
       " {'ALEGRIA': 8.257278949486135e-08, 'MEDO': 0.9999998807907104},\n",
       " {'ALEGRIA': 2.7167674332417846e-08, 'MEDO': 1.0},\n",
       " {'ALEGRIA': 2.1025130081397947e-08, 'MEDO': 1.0},\n",
       " {'ALEGRIA': 4.109946516450691e-08, 'MEDO': 1.0},\n",
       " {'ALEGRIA': 3.14356896069512e-08, 'MEDO': 1.0},\n",
       " {'ALEGRIA': 3.386125513316074e-08, 'MEDO': 1.0},\n",
       " {'ALEGRIA': 9.351349028463574e-09, 'MEDO': 1.0},\n",
       " {'ALEGRIA': 7.37800975869618e-09, 'MEDO': 1.0},\n",
       " {'ALEGRIA': 1.3117348096614023e-08, 'MEDO': 1.0},\n",
       " {'ALEGRIA': 3.518898239462942e-08, 'MEDO': 1.0},\n",
       " {'ALEGRIA': 3.0266601669382e-08, 'MEDO': 1.0},\n",
       " {'ALEGRIA': 2.3462790821326962e-08, 'MEDO': 1.0},\n",
       " {'ALEGRIA': 1.9134180462287986e-08, 'MEDO': 1.0},\n",
       " {'ALEGRIA': 2.2914072417279385e-08, 'MEDO': 1.0},\n",
       " {'ALEGRIA': 8.38056024576872e-09, 'MEDO': 1.0},\n",
       " {'ALEGRIA': 1.7622652226378932e-09, 'MEDO': 1.0},\n",
       " {'ALEGRIA': 1.6462196938960005e-08, 'MEDO': 1.0},\n",
       " {'ALEGRIA': 3.8991960771284084e-09, 'MEDO': 1.0},\n",
       " {'ALEGRIA': 2.7283164172331453e-08, 'MEDO': 1.0},\n",
       " {'ALEGRIA': 4.8299866328704866e-09, 'MEDO': 1.0},\n",
       " {'ALEGRIA': 6.781905703689972e-09, 'MEDO': 1.0},\n",
       " {'ALEGRIA': 2.206442673013953e-08, 'MEDO': 1.0},\n",
       " {'ALEGRIA': 4.528811814452638e-08, 'MEDO': 1.0},\n",
       " {'ALEGRIA': 3.8566074778145776e-09, 'MEDO': 1.0},\n",
       " {'ALEGRIA': 3.85324199214665e-08, 'MEDO': 1.0},\n",
       " {'ALEGRIA': 2.6244469708558427e-08, 'MEDO': 1.0},\n",
       " {'ALEGRIA': 9.157263392012283e-09, 'MEDO': 1.0},\n",
       " {'ALEGRIA': 7.286435899089838e-09, 'MEDO': 1.0},\n",
       " {'ALEGRIA': 4.668382569406049e-09, 'MEDO': 1.0},\n",
       " {'ALEGRIA': 8.166058051983782e-09, 'MEDO': 1.0},\n",
       " {'ALEGRIA': 2.8149116815257003e-08, 'MEDO': 1.0},\n",
       " {'ALEGRIA': 3.0474616607989446e-08, 'MEDO': 1.0},\n",
       " {'ALEGRIA': 5.344716225152979e-09, 'MEDO': 1.0},\n",
       " {'ALEGRIA': 6.456412648958576e-08, 'MEDO': 0.9999998807907104},\n",
       " {'ALEGRIA': 3.8394055934531934e-08, 'MEDO': 1.0},\n",
       " {'ALEGRIA': 3.200285902948963e-08, 'MEDO': 1.0},\n",
       " {'ALEGRIA': 8.027766540408265e-08, 'MEDO': 0.9999998807907104},\n",
       " {'ALEGRIA': 4.716410373362123e-08, 'MEDO': 1.0},\n",
       " {'ALEGRIA': 1.9904673465021006e-08, 'MEDO': 1.0},\n",
       " {'ALEGRIA': 1.9288619590440703e-09, 'MEDO': 1.0},\n",
       " {'ALEGRIA': 5.8969806815412085e-08, 'MEDO': 1.0},\n",
       " {'ALEGRIA': 2.005535648663681e-08, 'MEDO': 1.0},\n",
       " {'ALEGRIA': 2.8740355872969303e-08, 'MEDO': 1.0},\n",
       " {'ALEGRIA': 1.6401331848214795e-08, 'MEDO': 1.0},\n",
       " {'ALEGRIA': 3.4299826978667625e-08, 'MEDO': 1.0},\n",
       " {'ALEGRIA': 3.833873307712565e-08, 'MEDO': 1.0},\n",
       " {'ALEGRIA': 1.1587064641105371e-08, 'MEDO': 1.0},\n",
       " {'ALEGRIA': 3.7781727968422274e-08, 'MEDO': 1.0},\n",
       " {'ALEGRIA': 1.070296384853009e-08, 'MEDO': 1.0},\n",
       " {'ALEGRIA': 1.2590457565408997e-08, 'MEDO': 1.0},\n",
       " {'ALEGRIA': 2.6878936409957532e-08, 'MEDO': 1.0},\n",
       " {'ALEGRIA': 1.5761518312729095e-08, 'MEDO': 1.0},\n",
       " {'ALEGRIA': 2.613801441953001e-08, 'MEDO': 1.0},\n",
       " {'ALEGRIA': 2.3009897986980832e-08, 'MEDO': 1.0},\n",
       " {'ALEGRIA': 2.1461087129637235e-08, 'MEDO': 1.0},\n",
       " {'ALEGRIA': 5.855667595255909e-08, 'MEDO': 1.0},\n",
       " {'ALEGRIA': 3.134910997459883e-08, 'MEDO': 1.0},\n",
       " {'ALEGRIA': 7.952906599939524e-08, 'MEDO': 0.9999998807907104},\n",
       " {'ALEGRIA': 2.7839963223641462e-08, 'MEDO': 1.0},\n",
       " {'ALEGRIA': 1.604506572050468e-08, 'MEDO': 1.0},\n",
       " {'ALEGRIA': 6.7857874874732715e-09, 'MEDO': 1.0},\n",
       " {'ALEGRIA': 8.946978269364081e-09, 'MEDO': 1.0},\n",
       " {'ALEGRIA': 2.89552755106115e-08, 'MEDO': 1.0},\n",
       " {'ALEGRIA': 1.1446348757715441e-08, 'MEDO': 1.0},\n",
       " {'ALEGRIA': 4.7334523856079613e-08, 'MEDO': 1.0},\n",
       " {'ALEGRIA': 3.306506002331844e-08, 'MEDO': 1.0},\n",
       " {'ALEGRIA': 3.376090518258934e-08, 'MEDO': 1.0},\n",
       " {'ALEGRIA': 4.946471321432e-08, 'MEDO': 1.0},\n",
       " {'ALEGRIA': 4.93070331231138e-08, 'MEDO': 1.0},\n",
       " {'ALEGRIA': 1.7879226987815855e-08, 'MEDO': 1.0},\n",
       " {'ALEGRIA': 4.9004107438577194e-08, 'MEDO': 1.0},\n",
       " {'ALEGRIA': 3.030299566830763e-08, 'MEDO': 1.0},\n",
       " {'ALEGRIA': 5.765522104184129e-08, 'MEDO': 1.0}]"
      ]
     },
     "execution_count": 94,
     "metadata": {},
     "output_type": "execute_result"
    }
   ],
   "source": [
    "predictions"
   ]
  },
  {
   "cell_type": "code",
   "execution_count": 102,
   "id": "a69f2553-b997-4e17-959e-3061d673f91f",
   "metadata": {},
   "outputs": [],
   "source": [
    "final_predictions = []\n",
    "for predction in predictions:\n",
    "  if predction['ALEGRIA'] > predction['MEDO']:\n",
    "    final_predictions.append('alegria')\n",
    "  else:\n",
    "    final_predictions.append('medo')\n",
    "\n",
    "y_training = np.array(final_predictions)"
   ]
  },
  {
   "cell_type": "code",
   "execution_count": 103,
   "id": "02904d18-1355-4290-b793-563218167fb4",
   "metadata": {
    "scrolled": true
   },
   "outputs": [
    {
     "data": {
      "text/plain": [
       "array(['alegria', 'alegria', 'alegria', 'alegria', 'alegria', 'alegria',\n",
       "       'alegria', 'alegria', 'alegria', 'alegria', 'alegria', 'alegria',\n",
       "       'alegria', 'alegria', 'alegria', 'alegria', 'alegria', 'alegria',\n",
       "       'alegria', 'alegria', 'alegria', 'alegria', 'alegria', 'alegria',\n",
       "       'alegria', 'alegria', 'alegria', 'alegria', 'alegria', 'alegria',\n",
       "       'alegria', 'alegria', 'alegria', 'alegria', 'alegria', 'alegria',\n",
       "       'alegria', 'alegria', 'alegria', 'alegria', 'alegria', 'alegria',\n",
       "       'alegria', 'alegria', 'alegria', 'alegria', 'alegria', 'alegria',\n",
       "       'alegria', 'alegria', 'alegria', 'alegria', 'alegria', 'alegria',\n",
       "       'alegria', 'alegria', 'alegria', 'alegria', 'alegria', 'alegria',\n",
       "       'alegria', 'alegria', 'alegria', 'alegria', 'alegria', 'alegria',\n",
       "       'alegria', 'alegria', 'alegria', 'alegria', 'alegria', 'alegria',\n",
       "       'alegria', 'alegria', 'alegria', 'alegria', 'alegria', 'alegria',\n",
       "       'alegria', 'alegria', 'alegria', 'alegria', 'alegria', 'alegria',\n",
       "       'alegria', 'alegria', 'alegria', 'alegria', 'alegria', 'alegria',\n",
       "       'alegria', 'alegria', 'alegria', 'alegria', 'alegria', 'alegria',\n",
       "       'alegria', 'alegria', 'alegria', 'alegria', 'alegria', 'alegria',\n",
       "       'alegria', 'alegria', 'alegria', 'alegria', 'alegria', 'alegria',\n",
       "       'alegria', 'alegria', 'alegria', 'alegria', 'medo', 'medo', 'medo',\n",
       "       'medo', 'medo', 'medo', 'medo', 'medo', 'medo', 'medo', 'medo',\n",
       "       'medo', 'medo', 'medo', 'medo', 'medo', 'medo', 'medo', 'medo',\n",
       "       'medo', 'medo', 'medo', 'medo', 'medo', 'medo', 'medo', 'medo',\n",
       "       'medo', 'medo', 'medo', 'medo', 'medo', 'medo', 'medo', 'medo',\n",
       "       'medo', 'medo', 'medo', 'medo', 'medo', 'medo', 'medo', 'medo',\n",
       "       'medo', 'medo', 'medo', 'medo', 'medo', 'medo', 'medo', 'medo',\n",
       "       'medo', 'medo', 'medo', 'medo', 'medo', 'medo', 'medo', 'medo',\n",
       "       'medo', 'medo', 'medo', 'medo', 'medo', 'medo', 'medo', 'medo',\n",
       "       'medo', 'medo', 'medo', 'medo', 'medo', 'medo', 'medo', 'medo',\n",
       "       'medo', 'medo', 'medo', 'medo', 'medo', 'medo', 'medo', 'medo',\n",
       "       'medo'], dtype='<U7')"
      ]
     },
     "execution_count": 103,
     "metadata": {},
     "output_type": "execute_result"
    }
   ],
   "source": [
    "y_training"
   ]
  },
  {
   "cell_type": "code",
   "execution_count": 105,
   "id": "f204e7c2-8dbc-4fdc-a645-496ca91e1f4b",
   "metadata": {},
   "outputs": [
    {
     "data": {
      "text/plain": [
       "array(['alegria', 'alegria', 'alegria', 'alegria', 'alegria', 'alegria',\n",
       "       'alegria', 'alegria', 'alegria', 'alegria', 'alegria', 'alegria',\n",
       "       'alegria', 'alegria', 'alegria', 'alegria', 'alegria', 'alegria',\n",
       "       'alegria', 'alegria', 'alegria', 'alegria', 'alegria', 'alegria',\n",
       "       'alegria', 'alegria', 'alegria', 'alegria', 'alegria', 'alegria',\n",
       "       'alegria', 'alegria', 'alegria', 'alegria', 'alegria', 'alegria',\n",
       "       'alegria', 'alegria', 'alegria', 'alegria', 'alegria', 'alegria',\n",
       "       'alegria', 'alegria', 'alegria', 'alegria', 'alegria', 'alegria',\n",
       "       'alegria', 'alegria', 'alegria', 'alegria', 'alegria', 'alegria',\n",
       "       'alegria', 'alegria', 'alegria', 'alegria', 'alegria', 'alegria',\n",
       "       'alegria', 'alegria', 'alegria', 'alegria', 'alegria', 'alegria',\n",
       "       'alegria', 'alegria', 'alegria', 'alegria', 'alegria', 'alegria',\n",
       "       'alegria', 'alegria', 'alegria', 'alegria', 'alegria', 'alegria',\n",
       "       'alegria', 'alegria', 'alegria', 'alegria', 'alegria', 'alegria',\n",
       "       'alegria', 'alegria', 'alegria', 'alegria', 'alegria', 'alegria',\n",
       "       'alegria', 'alegria', 'alegria', 'alegria', 'alegria', 'alegria',\n",
       "       'alegria', 'alegria', 'alegria', 'alegria', 'alegria', 'alegria',\n",
       "       'alegria', 'alegria', 'alegria', 'alegria', 'alegria', 'alegria',\n",
       "       'alegria', 'alegria', 'alegria', 'alegria', 'medo', 'medo', 'medo',\n",
       "       'medo', 'medo', 'medo', 'medo', 'medo', 'medo', 'medo', 'medo',\n",
       "       'medo', 'medo', 'medo', 'medo', 'medo', 'medo', 'medo', 'medo',\n",
       "       'medo', 'medo', 'medo', 'medo', 'medo', 'medo', 'medo', 'medo',\n",
       "       'medo', 'medo', 'medo', 'medo', 'medo', 'medo', 'medo', 'medo',\n",
       "       'medo', 'medo', 'medo', 'medo', 'medo', 'medo', 'medo', 'medo',\n",
       "       'medo', 'medo', 'medo', 'medo', 'medo', 'medo', 'medo', 'medo',\n",
       "       'medo', 'medo', 'medo', 'medo', 'medo', 'medo', 'medo', 'medo',\n",
       "       'medo', 'medo', 'medo', 'medo', 'medo', 'medo', 'medo', 'medo',\n",
       "       'medo', 'medo', 'medo', 'medo', 'medo', 'medo', 'medo', 'medo',\n",
       "       'medo', 'medo', 'medo', 'medo', 'medo', 'medo', 'medo', 'medo',\n",
       "       'medo'], dtype=object)"
      ]
     },
     "execution_count": 105,
     "metadata": {},
     "output_type": "execute_result"
    }
   ],
   "source": [
    "X_training = training_base_preprocessing['emocao'].values\n",
    "X_training"
   ]
  },
  {
   "cell_type": "markdown",
   "id": "424c6b2d-3a2b-45a6-bf9b-37a5614bbb38",
   "metadata": {},
   "source": [
    "##### Aaccuracy_score"
   ]
  },
  {
   "cell_type": "code",
   "execution_count": 120,
   "id": "151ecfc0-b61d-408c-96a2-a09643de374e",
   "metadata": {},
   "outputs": [
    {
     "data": {
      "text/plain": [
       "1.0"
      ]
     },
     "execution_count": 120,
     "metadata": {},
     "output_type": "execute_result"
    }
   ],
   "source": [
    "accuracy_score(X_training, y_training)"
   ]
  },
  {
   "cell_type": "markdown",
   "id": "f1cdbd53-e2b0-4c94-9005-eb19ca13efc4",
   "metadata": {},
   "source": [
    "### 100 % of accuracy"
   ]
  },
  {
   "cell_type": "markdown",
   "id": "a842ef9c-08a3-4ce2-8f13-9fbb8e5fc561",
   "metadata": {},
   "source": [
    "### Testing the test_base"
   ]
  },
  {
   "cell_type": "code",
   "execution_count": 101,
   "id": "75be814e-74d2-41d1-82d4-4cf7c954f675",
   "metadata": {},
   "outputs": [
    {
     "data": {
      "text/html": [
       "<div>\n",
       "<style scoped>\n",
       "    .dataframe tbody tr th:only-of-type {\n",
       "        vertical-align: middle;\n",
       "    }\n",
       "\n",
       "    .dataframe tbody tr th {\n",
       "        vertical-align: top;\n",
       "    }\n",
       "\n",
       "    .dataframe thead th {\n",
       "        text-align: right;\n",
       "    }\n",
       "</style>\n",
       "<table border=\"1\" class=\"dataframe\">\n",
       "  <thead>\n",
       "    <tr style=\"text-align: right;\">\n",
       "      <th></th>\n",
       "      <th>texto</th>\n",
       "      <th>emocao</th>\n",
       "    </tr>\n",
       "  </thead>\n",
       "  <tbody>\n",
       "    <tr>\n",
       "      <th>0</th>\n",
       "      <td>não precisei pagar o ingresso</td>\n",
       "      <td>alegria</td>\n",
       "    </tr>\n",
       "    <tr>\n",
       "      <th>1</th>\n",
       "      <td>se eu ajeitar tudo fica bem</td>\n",
       "      <td>alegria</td>\n",
       "    </tr>\n",
       "    <tr>\n",
       "      <th>2</th>\n",
       "      <td>minha fortuna ultrapassará a sua</td>\n",
       "      <td>alegria</td>\n",
       "    </tr>\n",
       "    <tr>\n",
       "      <th>3</th>\n",
       "      <td>sou muito afortunado</td>\n",
       "      <td>alegria</td>\n",
       "    </tr>\n",
       "    <tr>\n",
       "      <th>4</th>\n",
       "      <td>é benéfico para todos esta nova medida</td>\n",
       "      <td>alegria</td>\n",
       "    </tr>\n",
       "  </tbody>\n",
       "</table>\n",
       "</div>"
      ],
      "text/plain": [
       "                                    texto   emocao\n",
       "0           não precisei pagar o ingresso  alegria\n",
       "1             se eu ajeitar tudo fica bem  alegria\n",
       "2        minha fortuna ultrapassará a sua  alegria\n",
       "3                    sou muito afortunado  alegria\n",
       "4  é benéfico para todos esta nova medida  alegria"
      ]
     },
     "execution_count": 101,
     "metadata": {},
     "output_type": "execute_result"
    }
   ],
   "source": [
    "test_base = pd.read_csv('base_teste.txt', encoding='utf-8')\n",
    "test_base.head()"
   ]
  },
  {
   "cell_type": "code",
   "execution_count": 113,
   "id": "49cd1087-796f-42bd-882e-a0922a45877e",
   "metadata": {},
   "outputs": [],
   "source": [
    "test_base_preprocessing = test_base\n",
    "test_base_preprocessing['texto'] = test_base['texto'].apply(preprocessing_text)"
   ]
  },
  {
   "cell_type": "code",
   "execution_count": 114,
   "id": "47dbddf5-9e43-4d1a-8b0e-9bc926692394",
   "metadata": {},
   "outputs": [],
   "source": [
    "real_answers = []\n",
    "for text in test_base_preprocessing['texto']:\n",
    "  real_answer = model_training(text)\n",
    "  real_answers.append(real_answer.cats)"
   ]
  },
  {
   "cell_type": "code",
   "execution_count": 123,
   "id": "ffeecdeb-8cba-4782-af4c-70bc028612ca",
   "metadata": {},
   "outputs": [],
   "source": [
    "final_real_answers = []\n",
    "for real_answer in real_answers:\n",
    "  if real_answer['ALEGRIA'] > real_answer['MEDO']:\n",
    "    final_real_answers.append('alegria')\n",
    "  else:\n",
    "    final_real_answers.append('medo')\n",
    "\n",
    "X_test = np.array(final_real_answers)"
   ]
  },
  {
   "cell_type": "code",
   "execution_count": 125,
   "id": "f9b21f76-8ec3-46f9-ac10-877d01e424c7",
   "metadata": {},
   "outputs": [
    {
     "data": {
      "text/plain": [
       "array(['medo', 'alegria', 'medo', 'alegria', 'alegria', 'alegria', 'medo',\n",
       "       'alegria', 'alegria', 'alegria', 'alegria', 'medo', 'alegria',\n",
       "       'alegria', 'alegria', 'alegria', 'medo', 'alegria', 'alegria',\n",
       "       'alegria', 'alegria', 'alegria', 'medo', 'alegria', 'medo',\n",
       "       'alegria', 'alegria', 'alegria', 'medo', 'medo', 'alegria',\n",
       "       'alegria', 'alegria', 'alegria', 'alegria', 'medo', 'alegria',\n",
       "       'alegria', 'alegria', 'alegria', 'alegria', 'alegria', 'alegria',\n",
       "       'medo', 'alegria', 'medo', 'alegria', 'medo', 'alegria', 'medo',\n",
       "       'medo', 'medo', 'alegria', 'medo', 'alegria', 'medo', 'medo',\n",
       "       'medo', 'medo', 'alegria', 'medo', 'alegria', 'medo', 'medo',\n",
       "       'alegria', 'medo', 'alegria', 'alegria', 'alegria', 'medo',\n",
       "       'alegria', 'medo', 'medo', 'alegria', 'alegria', 'medo', 'alegria',\n",
       "       'medo', 'medo', 'medo', 'alegria', 'alegria', 'medo', 'alegria'],\n",
       "      dtype='<U7')"
      ]
     },
     "execution_count": 125,
     "metadata": {},
     "output_type": "execute_result"
    }
   ],
   "source": [
    "X_test"
   ]
  },
  {
   "cell_type": "code",
   "execution_count": 127,
   "id": "40c5fbe9-da9a-4f9a-8af3-3f66cf426dda",
   "metadata": {},
   "outputs": [
    {
     "data": {
      "text/plain": [
       "array(['alegria', 'alegria', 'alegria', 'alegria', 'alegria', 'alegria',\n",
       "       'alegria', 'alegria', 'alegria', 'alegria', 'alegria', 'alegria',\n",
       "       'alegria', 'alegria', 'alegria', 'alegria', 'alegria', 'alegria',\n",
       "       'alegria', 'alegria', 'alegria', 'alegria', 'alegria', 'alegria',\n",
       "       'alegria', 'alegria', 'alegria', 'alegria', 'alegria', 'alegria',\n",
       "       'alegria', 'alegria', 'alegria', 'alegria', 'alegria', 'alegria',\n",
       "       'alegria', 'alegria', 'alegria', 'alegria', 'alegria', 'alegria',\n",
       "       'alegria', 'alegria', 'alegria', 'alegria', 'alegria', 'alegria',\n",
       "       'medo', 'medo', 'medo', 'medo', 'medo', 'medo', 'medo', 'medo',\n",
       "       'medo', 'medo', 'medo', 'medo', 'medo', 'medo', 'medo', 'medo',\n",
       "       'medo', 'medo', 'medo', 'medo', 'medo', 'medo', 'medo', 'medo',\n",
       "       'medo', 'medo', 'medo', 'medo', 'medo', 'medo', 'medo', 'medo',\n",
       "       'medo', 'medo', 'medo', 'medo'], dtype=object)"
      ]
     },
     "execution_count": 127,
     "metadata": {},
     "output_type": "execute_result"
    }
   ],
   "source": [
    "y_test = test_base_base_preprocessing['emocao'].values\n",
    "y_test"
   ]
  },
  {
   "cell_type": "markdown",
   "id": "68b425aa-1e08-4040-9b9c-72aabb7f2bd0",
   "metadata": {},
   "source": [
    "##### Aaccuracy_score"
   ]
  },
  {
   "cell_type": "code",
   "execution_count": 129,
   "id": "36bb55c5-3eb4-4b76-8c89-75ac76087376",
   "metadata": {},
   "outputs": [
    {
     "data": {
      "text/plain": [
       "0.6547619047619048"
      ]
     },
     "execution_count": 129,
     "metadata": {},
     "output_type": "execute_result"
    }
   ],
   "source": [
    "accuracy_score(y_test, X_test)"
   ]
  },
  {
   "cell_type": "markdown",
   "id": "4268eefd-c249-460d-bda7-d73e98bed148",
   "metadata": {},
   "source": [
    "### 65.47 % of accuracy"
   ]
  },
  {
   "cell_type": "code",
   "execution_count": 130,
   "id": "a6a12728-1623-419a-9ccb-bc60e47997ef",
   "metadata": {},
   "outputs": [
    {
     "data": {
      "text/plain": [
       "array([[35, 13],\n",
       "       [16, 20]], dtype=int64)"
      ]
     },
     "execution_count": 130,
     "metadata": {},
     "output_type": "execute_result"
    }
   ],
   "source": [
    "cm = confusion_matrix(y_test, X_test)\n",
    "cm"
   ]
  }
 ],
 "metadata": {
  "kernelspec": {
   "display_name": "Python 3 (ipykernel)",
   "language": "python",
   "name": "python3"
  },
  "language_info": {
   "codemirror_mode": {
    "name": "ipython",
    "version": 3
   },
   "file_extension": ".py",
   "mimetype": "text/x-python",
   "name": "python",
   "nbconvert_exporter": "python",
   "pygments_lexer": "ipython3",
   "version": "3.11.5"
  }
 },
 "nbformat": 4,
 "nbformat_minor": 5
}
